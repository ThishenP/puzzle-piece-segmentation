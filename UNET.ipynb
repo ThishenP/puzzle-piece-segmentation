{
 "cells": [
  {
   "cell_type": "code",
   "execution_count": 1,
   "id": "7f8816d7-1082-4f5a-8fc3-207e6120a046",
   "metadata": {},
   "outputs": [],
   "source": [
    "from natsort import natsorted\n",
    "import os\n",
    "import re\n",
    "from glob import glob\n",
    "import json\n",
    "import numpy as np\n",
    "import matplotlib.pyplot as plt\n",
    "import seaborn\n",
    "import networkx as nx\n",
    "\n",
    "\n",
    "import imageio\n",
    "import cv2\n",
    "import skimage\n",
    "from skimage import img_as_float32, img_as_ubyte, img_as_uint\n",
    "from skimage.feature import canny\n",
    "from skimage.color import rgb2gray, rgb2hsv, gray2rgb, rgba2rgb\n",
    "from sklearn.model_selection import train_test_split\n",
    "from sklearn.metrics import accuracy_score\n",
    "from functools import partial\n",
    "from tqdm.notebook import tqdm\n",
    "\n",
    "import tensorflow as tf\n",
    "from tensorflow.keras.layers import Conv2D, BatchNormalization, Activation, MaxPool2D, Conv2DTranspose, Concatenate, Input\n",
    "from tensorflow.keras.models import Model\n",
    "from tensorflow.keras.optimizers import Adam\n",
    "from tensorflow.keras.applications import VGG16\n",
    "from tensorflow.keras import metrics\n",
    "\n",
    "# caching with sane defaults\n",
    "from cachier import cachier"
   ]
  },
  {
   "cell_type": "code",
   "execution_count": 2,
   "id": "120ad08e-216c-48bf-b4b2-5b70e3dff654",
   "metadata": {},
   "outputs": [],
   "source": [
    "os.environ['TF_CPP_MIN_LOG_LEVEL'] = '3' \n",
    "tqdm = partial(tqdm, position=0, leave=True)"
   ]
  },
  {
   "cell_type": "code",
   "execution_count": 3,
   "id": "04735725-8c6e-4512-93b5-c5c3f27be91d",
   "metadata": {},
   "outputs": [],
   "source": [
    "# Helper plot functions\n",
    "\n",
    "def plot_img(img):\n",
    "    plt.imshow(img, cmap='gray')\n",
    "    plt.show\n",
    "\n",
    "def plot_all_data(X, y):\n",
    "    assert X.shape[0] == y.shape[0]\n",
    "    print(X.shape[0])\n",
    "    for i in range(X.shape[0]):\n",
    "        fig, axes = plt.subplots(nrows=1, ncols=2, figsize=(10, 10))\n",
    "        ax = axes.flatten()\n",
    "        ax[0].imshow(X[i])\n",
    "        ax[0].axis(\"off\")\n",
    "        ax[0].title.set_text(f'{i%(X.shape[0]/3)}')\n",
    "\n",
    "        ax[1].imshow(y[i], cmap=\"gray\")\n",
    "        ax[1].axis(\"off\")\n",
    "        ax[1].title.set_text(f'{i%(X.shape[0]/3)}')\n",
    "        plt.tight_layout()\n",
    "        plt.show()"
   ]
  },
  {
   "cell_type": "markdown",
   "id": "3035b425-c0e9-4682-8fa6-00cb45e3b3f8",
   "metadata": {},
   "source": [
    "# UNET with VGG16 ImageNet Weights"
   ]
  },
  {
   "cell_type": "code",
   "execution_count": 4,
   "id": "b9d67a90-42fc-4877-9bcc-64eac91426c0",
   "metadata": {},
   "outputs": [],
   "source": [
    "class Unet:\n",
    "    \n",
    "    def __init__(self, input_size):\n",
    "        self.input_size = input_size\n",
    "        self.model = self.create_unet_vgg16()\n",
    "        self.history = None\n",
    "        \n",
    "    def conv_block(self, x, num_filters):\n",
    "        x = Conv2D(num_filters, 3, padding=\"same\")(x)\n",
    "        x = BatchNormalization()(x)\n",
    "        x = Activation(\"relu\")(x)\n",
    "\n",
    "        x = Conv2D(num_filters, 3, padding=\"same\")(x)\n",
    "        x = BatchNormalization()(x)\n",
    "        x = Activation(\"relu\")(x)\n",
    "        return x\n",
    "    \n",
    "    def decoder_block(self, x, skip_features, num_filters):\n",
    "        x = Conv2DTranspose(num_filters, (2, 2), strides=2, padding=\"same\")(x)\n",
    "        x = Concatenate()([x, skip_features])\n",
    "        x = self.conv_block(x, num_filters)\n",
    "        return x\n",
    "\n",
    "    \n",
    "    def create_unet_vgg16(self):\n",
    "        \"\"\" Input \"\"\"\n",
    "        inputs = Input(self.input_size)\n",
    "\n",
    "        \"\"\" Pre-trained VGG16 Model \"\"\"\n",
    "        vgg16 = VGG16(include_top=False, weights=\"imagenet\", input_tensor=inputs)\n",
    "\n",
    "        \"\"\" Encoder \"\"\"\n",
    "        s1 = vgg16.get_layer(\"block1_conv2\").output         ## (512 x 512)\n",
    "        s2 = vgg16.get_layer(\"block2_conv2\").output         ## (256 x 256)\n",
    "        s3 = vgg16.get_layer(\"block3_conv3\").output         ## (128 x 128)\n",
    "        s4 = vgg16.get_layer(\"block4_conv3\").output         ## (64 x 64)\n",
    "\n",
    "        \"\"\" Bridge \"\"\"\n",
    "        b1 = vgg16.get_layer(\"block5_conv3\").output         ## (32 x 32)\n",
    "\n",
    "        \"\"\" Decoder \"\"\"\n",
    "        d1 = self.decoder_block(b1, s4, 512)                     ## (64 x 64)\n",
    "        d2 = self.decoder_block(d1, s3, 256)                     ## (128 x 128)\n",
    "        d3 = self.decoder_block(d2, s2, 128)                     ## (256 x 256)\n",
    "        d4 = self.decoder_block(d3, s1, 64)                      ## (512 x 512)\n",
    "\n",
    "        \"\"\" Output \"\"\"\n",
    "        outputs = Conv2D(1, 1, padding=\"same\", activation=\"sigmoid\")(d4)\n",
    "\n",
    "        return Model(inputs, outputs, name=\"VGG16_U-Net\")\n",
    "        \n",
    "    \n",
    "    def train(self, X_train, X_val, y_train, y_val, lr=1e-3, batch_size=8, epochs=100):\n",
    "        self.model.compile(optimizer=Adam(learning_rate=lr), loss='binary_crossentropy', metrics=['accuracy'])\n",
    "        self.history = self.model.fit(X_train, y_train, \n",
    "                    batch_size=batch_size, \n",
    "                    verbose=1, \n",
    "                    epochs=epochs, \n",
    "                    validation_data=(X_test, y_test), \n",
    "                    shuffle=False)\n",
    "    \n",
    "    \n",
    "    def plot_loss(self):\n",
    "        loss = self.history.history['loss']\n",
    "        val_loss = self.history.history['val_loss']\n",
    "        epochs = range(1, len(loss) + 1)\n",
    "        plt.plot(epochs, loss, 'y', label='Training loss')\n",
    "        plt.plot(epochs, val_loss, 'r', label='Validation loss')\n",
    "        plt.title('Training and validation loss')\n",
    "        plt.xlabel('Epochs')\n",
    "        plt.ylabel('Loss')\n",
    "        plt.legend()\n",
    "        plt.show()\n",
    "\n",
    "        \n",
    "    def plot_accuracy(self):\n",
    "        acc = self.history.history['accuracy']\n",
    "        val_acc = self.history.history['val_accuracy']\n",
    "        epochs = range(1, len(acc) + 1)\n",
    "        plt.plot(epochs, acc, 'y', label='Training acc')\n",
    "        plt.plot(epochs, val_acc, 'r', label='Validation acc')\n",
    "        plt.title('Training and validation accuracy')\n",
    "        plt.xlabel('Epochs')\n",
    "        plt.ylabel('Accuracy')\n",
    "        plt.legend()\n",
    "        plt.show()\n",
    "\n",
    "    def predict_batch(self, x):\n",
    "        y = self.model.predict(x)\n",
    "        y = (y[:,:,:,0] > 0.5).astype(np.uint8)\n",
    "        return y\n",
    "    \n",
    "    def evaluate_model(self, X, y_true):\n",
    "        y_pred = self.predict_batch(X)\n",
    "        y_pred = np.squeeze(y_pred)\n",
    "        y_true = np.squeeze(y_true)\n",
    "        print(f\"Accuracy: {pixel_accuracy(y_true, y_pred)}\")\n",
    "        print(f\"Dice: {dice(y_true, y_pred)}\")\n",
    "        print(f\"IoU: {iou(y_true, y_pred)}\")"
   ]
  },
  {
   "cell_type": "markdown",
   "id": "5e5ef14c-1526-4f79-9b1f-014449990dd3",
   "metadata": {},
   "source": [
    "## Evaluation Metrics"
   ]
  },
  {
   "cell_type": "code",
   "execution_count": 5,
   "id": "d96e8493-857c-4ee3-a4d9-b152a6f00bb4",
   "metadata": {},
   "outputs": [],
   "source": [
    "def dice(y_true, y_pred):\n",
    "    y_true = np.asarray(y_true).astype(bool)\n",
    "    y_pred = np.asarray(y_pred).astype(bool)\n",
    "    \n",
    "    im_sum = y_true.sum() + y_pred.sum()\n",
    "\n",
    "    # Compute Dice coefficient\n",
    "    intersection = np.logical_and(y_true, y_pred)\n",
    "\n",
    "    return 2. * intersection.sum() / im_sum\n",
    "\n",
    "def pixel_accuracy(y_true, y_pred):\n",
    "    y_true = np.asarray(y_true).astype(np.uint8).flatten()\n",
    "    y_pred = np.asarray(y_pred).astype(np.uint8).flatten()\n",
    "    return accuracy_score(y_true, y_pred)\n",
    "\n",
    "\n",
    "def iou(y_true, y_pred):\n",
    "    y_true = np.asarray(y_true).astype(bool)\n",
    "    y_pred = np.asarray(y_pred).astype(bool)\n",
    "    intersection = np.logical_and(y_true, y_pred)\n",
    "    union = np.logical_or(y_true, y_pred)\n",
    "    iou_score = np.sum(intersection) / np.sum(union)\n",
    "    return iou_score"
   ]
  },
  {
   "cell_type": "markdown",
   "id": "f3f4eccf-3c61-4f0d-a680-1228f3e8f36d",
   "metadata": {},
   "source": [
    "# Read in Data"
   ]
  },
  {
   "cell_type": "code",
   "execution_count": 6,
   "id": "0ade04ab-501f-41bc-9071-68212e4d622f",
   "metadata": {},
   "outputs": [
    {
     "data": {
      "application/vnd.jupyter.widget-view+json": {
       "model_id": "66103b2d6b2c486fb16e3b181f900e6c",
       "version_major": 2,
       "version_minor": 0
      },
      "text/plain": [
       "Loading Images:   0%|          | 0/48 [00:00<?, ?it/s]"
      ]
     },
     "metadata": {},
     "output_type": "display_data"
    },
    {
     "data": {
      "application/vnd.jupyter.widget-view+json": {
       "model_id": "fdcc99e6db2f469cace9bda287b60252",
       "version_major": 2,
       "version_minor": 0
      },
      "text/plain": [
       "Loading Masks:   0%|          | 0/48 [00:00<?, ?it/s]"
      ]
     },
     "metadata": {},
     "output_type": "display_data"
    },
    {
     "data": {
      "application/vnd.jupyter.widget-view+json": {
       "model_id": "b79fcb1cdb924db8b41a55f97953fd44",
       "version_major": 2,
       "version_minor": 0
      },
      "text/plain": [
       "Resizing Images:   0%|          | 0/48 [00:00<?, ?it/s]"
      ]
     },
     "metadata": {},
     "output_type": "display_data"
    },
    {
     "data": {
      "application/vnd.jupyter.widget-view+json": {
       "model_id": "2c70e3fc49254530b7076c1ee92e744b",
       "version_major": 2,
       "version_minor": 0
      },
      "text/plain": [
       "Resizing Masks:   0%|          | 0/48 [00:00<?, ?it/s]"
      ]
     },
     "metadata": {},
     "output_type": "display_data"
    }
   ],
   "source": [
    "SIZE = (768, 1024)\n",
    "\n",
    "DATA_PATH_PAIRS = list(\n",
    "    zip(\n",
    "        natsorted(\n",
    "            glob(\n",
    "                f\"puzzle_corners_{SIZE[1]}x{SIZE[0]}/images-{SIZE[1]}x{SIZE[0]}/*.png\"\n",
    "            )\n",
    "        ),\n",
    "        natsorted(\n",
    "            glob(\n",
    "                f\"puzzle_corners_{SIZE[1]}x{SIZE[0]}/masks-{SIZE[1]}x{SIZE[0]}/*.png\"\n",
    "            )\n",
    "        ),\n",
    "    )\n",
    ")\n",
    "DATA_IMGS = np.array(\n",
    "    [\n",
    "        img_as_float32(imageio.imread(img_path))\n",
    "        for img_path, _ in tqdm(DATA_PATH_PAIRS, \"Loading Images\")\n",
    "    ]\n",
    ")\n",
    "DATA_MSKS = np.array(\n",
    "    [\n",
    "        img_as_float32(imageio.imread(msk_path))\n",
    "        for _, msk_path in tqdm(DATA_PATH_PAIRS, \"Loading Masks\")\n",
    "    ]\n",
    ")\n",
    "\n",
    "SCALE = 0.25\n",
    "MATCH_IMGS = np.array([\n",
    "    cv2.resize(img, None, fx=SCALE, fy=SCALE)\n",
    "    for img in tqdm(DATA_IMGS, \"Resizing Images\")\n",
    "])\n",
    "MATCH_MSKS = np.array([\n",
    "    np.expand_dims(cv2.resize(img, None, fx=SCALE, fy=SCALE), axis=2)\n",
    "    for img in tqdm(DATA_MSKS, \"Resizing Masks\")\n",
    "])\n",
    "    \n",
    "    # Should I be normalizing the data? \n",
    "    "
   ]
  },
  {
   "cell_type": "markdown",
   "id": "c1e4c854-ff3e-4cae-9a36-55a23f54fff9",
   "metadata": {},
   "source": [
    "## Split data"
   ]
  },
  {
   "cell_type": "code",
   "execution_count": 7,
   "id": "6e5d837f-00cd-498b-9d0f-b4e097c54f08",
   "metadata": {},
   "outputs": [],
   "source": [
    "def train_val_test_split(X, y, train_count=34, val_count=7, test_count=7, random_state=42):\n",
    "    \"\"\" Split data into train, validation and test sets\"\"\"\n",
    "    # Obtain percentage split values\n",
    "    total_data_size = X.shape[0]\n",
    "    train_size = train_count / total_data_size\n",
    "    val_size = val_count / total_data_size\n",
    "    test_size = val_count / total_data_size\n",
    "   \n",
    "    X_train, X_rem, y_train, y_rem = train_test_split(X, y, train_size=train_size, random_state=random_state)\n",
    "    val_size = val_size/(val_size+test_size)\n",
    "    X_val, X_test, y_val, y_test = train_test_split(X_rem, y_rem, train_size=val_size, random_state=random_state)\n",
    "    \n",
    "    print(f\"Training images: {X_train.shape[0]}\")\n",
    "    print(f\"Validation images: {X_val.shape[0]}\")\n",
    "    print(f\"Test images: {X_test.shape[0]}\")\n",
    "    \n",
    "    return X_train, X_val, X_test, y_train, y_val, y_test"
   ]
  },
  {
   "cell_type": "code",
   "execution_count": 8,
   "id": "12cffb24-6381-47ef-8247-124586255231",
   "metadata": {},
   "outputs": [
    {
     "name": "stdout",
     "output_type": "stream",
     "text": [
      "Training images: 34\n",
      "Validation images: 7\n",
      "Test images: 7\n"
     ]
    }
   ],
   "source": [
    "X_train, X_val, X_test, y_train, y_val, y_test = train_val_test_split(MATCH_IMGS, MATCH_MSKS)"
   ]
  },
  {
   "cell_type": "markdown",
   "id": "545e8a8d-f36f-4bc3-bd26-8398926332df",
   "metadata": {},
   "source": [
    "# Data augmentations"
   ]
  },
  {
   "cell_type": "code",
   "execution_count": 9,
   "id": "5be2e8cf-afcf-46cb-b13e-4b368ea354b3",
   "metadata": {},
   "outputs": [],
   "source": [
    "def apply_image_aug(aug_func, X_train, X_val, y_train, y_val, aug_target=True, args={}):\n",
    "    \n",
    "    X_train = np.append(X_train, aug_func(X_train[:34], **args).numpy(), 0)\n",
    "    \n",
    "    \n",
    "    X_val = np.append(X_val, aug_func(X_val[:7], **args).numpy(), 0)\n",
    "    \n",
    "    \n",
    "    if aug_target:\n",
    "        y_train = np.append(y_train, aug_func(y_train[:34], **args).numpy(), 0)\n",
    "        y_val = np.append(y_val, aug_func(y_val[:7], **args).numpy(), 0)\n",
    "    else:\n",
    "        y_train = np.append(y_train, y_train[:34], 0)\n",
    "        y_val = np.append(y_val, y_val[:7], 0)\n",
    "\n",
    "    return X_train, X_val, y_train, y_val\n",
    "\n",
    "def add_data_augmentations(X_train, X_val, y_train, y_val):\n",
    "    # Spatial augmentations\n",
    "    \n",
    "    ## Flipping\n",
    "    X_train, X_val, y_train, y_val = apply_image_aug(tf.image.flip_left_right, X_train, X_val, y_train, y_val)\n",
    "    X_train, X_val, y_train, y_val = apply_image_aug(tf.image.flip_up_down, X_train, X_val, y_train, y_val)    \n",
    "    \n",
    "    # ## Rotation\n",
    "    # X_train, X_val, y_train, y_val = apply_image_aug(tf.image.rot90, X_train, X_val, y_train, y_val)\n",
    "    \n",
    "    # Pixel augmentations\n",
    "    \n",
    "    ## Brightness\n",
    "    X_train, X_val, y_train, y_val = apply_image_aug(tf.image.random_brightness, X_train, X_val, y_train, y_val, aug_target=False, args={\"max_delta\": 0.25})    \n",
    "    \n",
    "    ## Contrast\n",
    "    \n",
    "    ## Saturation\n",
    "    \n",
    "    ## Hue\n",
    "    \n",
    "    \n",
    "    return X_train, X_val, y_train, y_val"
   ]
  },
  {
   "cell_type": "markdown",
   "id": "f0333a51-f0f5-40a6-bdad-42f9e0e6a6c5",
   "metadata": {},
   "source": [
    "# Training model with no data Augmentation"
   ]
  },
  {
   "cell_type": "code",
   "execution_count": 10,
   "id": "221c3780-bb96-4b94-adbe-135ae20a0d32",
   "metadata": {},
   "outputs": [],
   "source": [
    "unet = Unet(input_size=X_train[0].shape)"
   ]
  },
  {
   "cell_type": "code",
   "execution_count": 11,
   "id": "848e4b8b-f1ab-4b46-9b6d-928fe51b2dc4",
   "metadata": {},
   "outputs": [
    {
     "name": "stdout",
     "output_type": "stream",
     "text": [
      "Epoch 1/100\n",
      "3/3 [==============================] - 9s 2s/step - loss: 0.6042 - accuracy: 0.6452 - val_loss: 4.7466 - val_accuracy: 0.2558\n",
      "Epoch 2/100\n",
      "3/3 [==============================] - 1s 158ms/step - loss: 0.1921 - accuracy: 0.9541 - val_loss: 9.3130 - val_accuracy: 0.2553\n",
      "Epoch 3/100\n",
      "3/3 [==============================] - 1s 165ms/step - loss: 0.1299 - accuracy: 0.9633 - val_loss: 48.2163 - val_accuracy: 0.2552\n",
      "Epoch 4/100\n",
      "3/3 [==============================] - 1s 156ms/step - loss: 0.0955 - accuracy: 0.9759 - val_loss: 24.6414 - val_accuracy: 0.2552\n",
      "Epoch 5/100\n",
      "3/3 [==============================] - 1s 161ms/step - loss: 0.0801 - accuracy: 0.9808 - val_loss: 78.0775 - val_accuracy: 0.2552\n",
      "Epoch 6/100\n",
      "3/3 [==============================] - 1s 160ms/step - loss: 0.0677 - accuracy: 0.9840 - val_loss: 114.6874 - val_accuracy: 0.2552\n",
      "Epoch 7/100\n",
      "3/3 [==============================] - 1s 162ms/step - loss: 0.0589 - accuracy: 0.9858 - val_loss: 412.2192 - val_accuracy: 0.2552\n",
      "Epoch 8/100\n",
      "3/3 [==============================] - 1s 159ms/step - loss: 0.0536 - accuracy: 0.9872 - val_loss: 407.3859 - val_accuracy: 0.2552\n",
      "Epoch 9/100\n",
      "3/3 [==============================] - 1s 159ms/step - loss: 0.0456 - accuracy: 0.9891 - val_loss: 35.1008 - val_accuracy: 0.2552\n",
      "Epoch 10/100\n",
      "3/3 [==============================] - 1s 162ms/step - loss: 0.0420 - accuracy: 0.9894 - val_loss: 44.5878 - val_accuracy: 0.2553\n",
      "Epoch 11/100\n",
      "3/3 [==============================] - 1s 167ms/step - loss: 0.0384 - accuracy: 0.9902 - val_loss: 41.8722 - val_accuracy: 0.2554\n",
      "Epoch 12/100\n",
      "3/3 [==============================] - 1s 156ms/step - loss: 0.0362 - accuracy: 0.9905 - val_loss: 150.4138 - val_accuracy: 0.2553\n",
      "Epoch 13/100\n",
      "3/3 [==============================] - 1s 158ms/step - loss: 0.0320 - accuracy: 0.9916 - val_loss: 15.4379 - val_accuracy: 0.2588\n",
      "Epoch 14/100\n",
      "3/3 [==============================] - 1s 157ms/step - loss: 0.0301 - accuracy: 0.9919 - val_loss: 15.3646 - val_accuracy: 0.2582\n",
      "Epoch 15/100\n",
      "3/3 [==============================] - 1s 156ms/step - loss: 0.0277 - accuracy: 0.9923 - val_loss: 10.0760 - val_accuracy: 0.2596\n",
      "Epoch 16/100\n",
      "3/3 [==============================] - 1s 159ms/step - loss: 0.0377 - accuracy: 0.9881 - val_loss: 56.4572 - val_accuracy: 0.2642\n",
      "Epoch 17/100\n",
      "3/3 [==============================] - 1s 155ms/step - loss: 0.0394 - accuracy: 0.9868 - val_loss: 6.2085 - val_accuracy: 0.3124\n",
      "Epoch 18/100\n",
      "3/3 [==============================] - 1s 152ms/step - loss: 0.0356 - accuracy: 0.9885 - val_loss: 14.6616 - val_accuracy: 0.2650\n",
      "Epoch 19/100\n",
      "3/3 [==============================] - 1s 153ms/step - loss: 0.0330 - accuracy: 0.9891 - val_loss: 4.5611 - val_accuracy: 0.3209\n",
      "Epoch 20/100\n",
      "3/3 [==============================] - 1s 153ms/step - loss: 0.0303 - accuracy: 0.9902 - val_loss: 10.5385 - val_accuracy: 0.2867\n",
      "Epoch 21/100\n",
      "3/3 [==============================] - 1s 160ms/step - loss: 0.0275 - accuracy: 0.9912 - val_loss: 18.2694 - val_accuracy: 0.2726\n",
      "Epoch 22/100\n",
      "3/3 [==============================] - 1s 158ms/step - loss: 0.0248 - accuracy: 0.9920 - val_loss: 16.0096 - val_accuracy: 0.2839\n",
      "Epoch 23/100\n",
      "3/3 [==============================] - 1s 156ms/step - loss: 0.0235 - accuracy: 0.9923 - val_loss: 16.8612 - val_accuracy: 0.2842\n",
      "Epoch 24/100\n",
      "3/3 [==============================] - 1s 155ms/step - loss: 0.0220 - accuracy: 0.9927 - val_loss: 17.8005 - val_accuracy: 0.2878\n",
      "Epoch 25/100\n",
      "3/3 [==============================] - 1s 159ms/step - loss: 0.0209 - accuracy: 0.9930 - val_loss: 15.5943 - val_accuracy: 0.3064\n",
      "Epoch 26/100\n",
      "3/3 [==============================] - 1s 157ms/step - loss: 0.0201 - accuracy: 0.9931 - val_loss: 14.1908 - val_accuracy: 0.3003\n",
      "Epoch 27/100\n",
      "3/3 [==============================] - 1s 159ms/step - loss: 0.0193 - accuracy: 0.9932 - val_loss: 10.6753 - val_accuracy: 0.3143\n",
      "Epoch 28/100\n",
      "3/3 [==============================] - 1s 160ms/step - loss: 0.0185 - accuracy: 0.9934 - val_loss: 8.5019 - val_accuracy: 0.3281\n",
      "Epoch 29/100\n",
      "3/3 [==============================] - 1s 156ms/step - loss: 0.0179 - accuracy: 0.9935 - val_loss: 6.8698 - val_accuracy: 0.3283\n",
      "Epoch 30/100\n",
      "3/3 [==============================] - 1s 159ms/step - loss: 0.0174 - accuracy: 0.9935 - val_loss: 4.5956 - val_accuracy: 0.3338\n",
      "Epoch 31/100\n",
      "3/3 [==============================] - 1s 158ms/step - loss: 0.0167 - accuracy: 0.9937 - val_loss: 3.2796 - val_accuracy: 0.3446\n",
      "Epoch 32/100\n",
      "3/3 [==============================] - 1s 160ms/step - loss: 0.0163 - accuracy: 0.9937 - val_loss: 2.6899 - val_accuracy: 0.3509\n",
      "Epoch 33/100\n",
      "3/3 [==============================] - 1s 159ms/step - loss: 0.0158 - accuracy: 0.9938 - val_loss: 1.9708 - val_accuracy: 0.3762\n",
      "Epoch 34/100\n",
      "3/3 [==============================] - 1s 161ms/step - loss: 0.0154 - accuracy: 0.9939 - val_loss: 1.7635 - val_accuracy: 0.3814\n",
      "Epoch 35/100\n",
      "3/3 [==============================] - 1s 163ms/step - loss: 0.0150 - accuracy: 0.9939 - val_loss: 1.3739 - val_accuracy: 0.4107\n",
      "Epoch 36/100\n",
      "3/3 [==============================] - 1s 162ms/step - loss: 0.0146 - accuracy: 0.9940 - val_loss: 0.9923 - val_accuracy: 0.4838\n",
      "Epoch 37/100\n",
      "3/3 [==============================] - 1s 162ms/step - loss: 0.0143 - accuracy: 0.9941 - val_loss: 0.7927 - val_accuracy: 0.5603\n",
      "Epoch 38/100\n",
      "3/3 [==============================] - 1s 162ms/step - loss: 0.0139 - accuracy: 0.9941 - val_loss: 0.5384 - val_accuracy: 0.7132\n",
      "Epoch 39/100\n",
      "3/3 [==============================] - 1s 166ms/step - loss: 0.0136 - accuracy: 0.9942 - val_loss: 0.4583 - val_accuracy: 0.7734\n",
      "Epoch 40/100\n",
      "3/3 [==============================] - 1s 165ms/step - loss: 0.0133 - accuracy: 0.9942 - val_loss: 0.3101 - val_accuracy: 0.8766\n",
      "Epoch 41/100\n",
      "3/3 [==============================] - 1s 162ms/step - loss: 0.0130 - accuracy: 0.9942 - val_loss: 0.2466 - val_accuracy: 0.9137\n",
      "Epoch 42/100\n",
      "3/3 [==============================] - 1s 162ms/step - loss: 0.0127 - accuracy: 0.9943 - val_loss: 0.1845 - val_accuracy: 0.9460\n",
      "Epoch 43/100\n",
      "3/3 [==============================] - 1s 161ms/step - loss: 0.0125 - accuracy: 0.9943 - val_loss: 0.1746 - val_accuracy: 0.9484\n",
      "Epoch 44/100\n",
      "3/3 [==============================] - 1s 161ms/step - loss: 0.0122 - accuracy: 0.9944 - val_loss: 0.1369 - val_accuracy: 0.9650\n",
      "Epoch 45/100\n",
      "3/3 [==============================] - 1s 158ms/step - loss: 0.0120 - accuracy: 0.9944 - val_loss: 0.1097 - val_accuracy: 0.9755\n",
      "Epoch 46/100\n",
      "3/3 [==============================] - 1s 165ms/step - loss: 0.0118 - accuracy: 0.9945 - val_loss: 0.0823 - val_accuracy: 0.9837\n",
      "Epoch 47/100\n",
      "3/3 [==============================] - 1s 166ms/step - loss: 0.0116 - accuracy: 0.9945 - val_loss: 0.0720 - val_accuracy: 0.9858\n",
      "Epoch 48/100\n",
      "3/3 [==============================] - 1s 157ms/step - loss: 0.0114 - accuracy: 0.9945 - val_loss: 0.0677 - val_accuracy: 0.9859\n",
      "Epoch 49/100\n",
      "3/3 [==============================] - 1s 159ms/step - loss: 0.0112 - accuracy: 0.9945 - val_loss: 0.0618 - val_accuracy: 0.9865\n",
      "Epoch 50/100\n",
      "3/3 [==============================] - 1s 165ms/step - loss: 0.0110 - accuracy: 0.9946 - val_loss: 0.0542 - val_accuracy: 0.9873\n",
      "Epoch 51/100\n",
      "3/3 [==============================] - 1s 158ms/step - loss: 0.0108 - accuracy: 0.9946 - val_loss: 0.0532 - val_accuracy: 0.9844\n",
      "Epoch 52/100\n",
      "3/3 [==============================] - 1s 163ms/step - loss: 0.0109 - accuracy: 0.9945 - val_loss: 0.0630 - val_accuracy: 0.9780\n",
      "Epoch 53/100\n",
      "3/3 [==============================] - 1s 159ms/step - loss: 0.0109 - accuracy: 0.9945 - val_loss: 0.0566 - val_accuracy: 0.9808\n",
      "Epoch 54/100\n",
      "3/3 [==============================] - 1s 156ms/step - loss: 0.0109 - accuracy: 0.9945 - val_loss: 0.0529 - val_accuracy: 0.9854\n",
      "Epoch 55/100\n",
      "3/3 [==============================] - 1s 157ms/step - loss: 0.0154 - accuracy: 0.9928 - val_loss: 0.0972 - val_accuracy: 0.9681\n",
      "Epoch 56/100\n",
      "3/3 [==============================] - 1s 155ms/step - loss: 0.0128 - accuracy: 0.9937 - val_loss: 0.3299 - val_accuracy: 0.8629\n",
      "Epoch 57/100\n",
      "3/3 [==============================] - 1s 155ms/step - loss: 0.0134 - accuracy: 0.9934 - val_loss: 0.3256 - val_accuracy: 0.8690\n",
      "Epoch 58/100\n",
      "3/3 [==============================] - 1s 158ms/step - loss: 0.0122 - accuracy: 0.9938 - val_loss: 0.2121 - val_accuracy: 0.9110\n",
      "Epoch 59/100\n",
      "3/3 [==============================] - 1s 154ms/step - loss: 0.0119 - accuracy: 0.9939 - val_loss: 0.3076 - val_accuracy: 0.8631\n",
      "Epoch 60/100\n",
      "3/3 [==============================] - 1s 152ms/step - loss: 0.0117 - accuracy: 0.9939 - val_loss: 0.5296 - val_accuracy: 0.7725\n",
      "Epoch 61/100\n",
      "3/3 [==============================] - 1s 153ms/step - loss: 0.0107 - accuracy: 0.9944 - val_loss: 0.2796 - val_accuracy: 0.8869\n",
      "Epoch 62/100\n",
      "3/3 [==============================] - 1s 152ms/step - loss: 0.0105 - accuracy: 0.9944 - val_loss: 0.0633 - val_accuracy: 0.9804\n",
      "Epoch 63/100\n",
      "3/3 [==============================] - 1s 152ms/step - loss: 0.0103 - accuracy: 0.9944 - val_loss: 0.0636 - val_accuracy: 0.9776\n",
      "Epoch 64/100\n",
      "3/3 [==============================] - 1s 153ms/step - loss: 0.0099 - accuracy: 0.9946 - val_loss: 0.0620 - val_accuracy: 0.9778\n",
      "Epoch 65/100\n",
      "3/3 [==============================] - 1s 153ms/step - loss: 0.0096 - accuracy: 0.9946 - val_loss: 0.0430 - val_accuracy: 0.9849\n",
      "Epoch 66/100\n",
      "3/3 [==============================] - 1s 153ms/step - loss: 0.0095 - accuracy: 0.9946 - val_loss: 0.0297 - val_accuracy: 0.9899\n",
      "Epoch 67/100\n",
      "3/3 [==============================] - 1s 153ms/step - loss: 0.0093 - accuracy: 0.9947 - val_loss: 0.0303 - val_accuracy: 0.9893\n",
      "Epoch 68/100\n",
      "3/3 [==============================] - 1s 151ms/step - loss: 0.0092 - accuracy: 0.9948 - val_loss: 0.0448 - val_accuracy: 0.9827\n",
      "Epoch 69/100\n",
      "3/3 [==============================] - 1s 153ms/step - loss: 0.0090 - accuracy: 0.9948 - val_loss: 0.0583 - val_accuracy: 0.9774\n",
      "Epoch 70/100\n",
      "3/3 [==============================] - 1s 153ms/step - loss: 0.0088 - accuracy: 0.9948 - val_loss: 0.0669 - val_accuracy: 0.9747\n",
      "Epoch 71/100\n",
      "3/3 [==============================] - 1s 153ms/step - loss: 0.0087 - accuracy: 0.9948 - val_loss: 0.0755 - val_accuracy: 0.9717\n",
      "Epoch 72/100\n",
      "3/3 [==============================] - 1s 153ms/step - loss: 0.0087 - accuracy: 0.9948 - val_loss: 0.0832 - val_accuracy: 0.9695\n",
      "Epoch 73/100\n",
      "3/3 [==============================] - 1s 154ms/step - loss: 0.0086 - accuracy: 0.9948 - val_loss: 0.0868 - val_accuracy: 0.9686\n",
      "Epoch 74/100\n",
      "3/3 [==============================] - 1s 153ms/step - loss: 0.0085 - accuracy: 0.9949 - val_loss: 0.1043 - val_accuracy: 0.9630\n",
      "Epoch 75/100\n",
      "3/3 [==============================] - 1s 153ms/step - loss: 0.0087 - accuracy: 0.9948 - val_loss: 0.0858 - val_accuracy: 0.9692\n",
      "Epoch 76/100\n",
      "3/3 [==============================] - 1s 154ms/step - loss: 0.0086 - accuracy: 0.9948 - val_loss: 0.0878 - val_accuracy: 0.9687\n",
      "Epoch 77/100\n",
      "3/3 [==============================] - 1s 152ms/step - loss: 0.0085 - accuracy: 0.9948 - val_loss: 0.1075 - val_accuracy: 0.9627\n",
      "Epoch 78/100\n",
      "3/3 [==============================] - 1s 153ms/step - loss: 0.0087 - accuracy: 0.9947 - val_loss: 0.0842 - val_accuracy: 0.9699\n",
      "Epoch 79/100\n",
      "3/3 [==============================] - 1s 153ms/step - loss: 0.0085 - accuracy: 0.9948 - val_loss: 0.0919 - val_accuracy: 0.9670\n",
      "Epoch 80/100\n",
      "3/3 [==============================] - 1s 153ms/step - loss: 0.0084 - accuracy: 0.9948 - val_loss: 0.0617 - val_accuracy: 0.9764\n",
      "Epoch 81/100\n",
      "3/3 [==============================] - 1s 152ms/step - loss: 0.0081 - accuracy: 0.9949 - val_loss: 0.0844 - val_accuracy: 0.9696\n",
      "Epoch 82/100\n",
      "3/3 [==============================] - 1s 153ms/step - loss: 0.0079 - accuracy: 0.9950 - val_loss: 0.0773 - val_accuracy: 0.9720\n",
      "Epoch 83/100\n",
      "3/3 [==============================] - 1s 153ms/step - loss: 0.0078 - accuracy: 0.9950 - val_loss: 0.0757 - val_accuracy: 0.9727\n",
      "Epoch 84/100\n",
      "3/3 [==============================] - 1s 154ms/step - loss: 0.0077 - accuracy: 0.9950 - val_loss: 0.0845 - val_accuracy: 0.9689\n",
      "Epoch 85/100\n",
      "3/3 [==============================] - 1s 167ms/step - loss: 0.0075 - accuracy: 0.9951 - val_loss: 0.0812 - val_accuracy: 0.9702\n",
      "Epoch 86/100\n",
      "3/3 [==============================] - 1s 160ms/step - loss: 0.0075 - accuracy: 0.9951 - val_loss: 0.0967 - val_accuracy: 0.9649\n",
      "Epoch 87/100\n",
      "3/3 [==============================] - 1s 164ms/step - loss: 0.0074 - accuracy: 0.9951 - val_loss: 0.0957 - val_accuracy: 0.9653\n",
      "Epoch 88/100\n",
      "3/3 [==============================] - 1s 160ms/step - loss: 0.0073 - accuracy: 0.9951 - val_loss: 0.1063 - val_accuracy: 0.9619\n",
      "Epoch 89/100\n",
      "3/3 [==============================] - 1s 161ms/step - loss: 0.0072 - accuracy: 0.9951 - val_loss: 0.1213 - val_accuracy: 0.9565\n",
      "Epoch 90/100\n",
      "3/3 [==============================] - 1s 157ms/step - loss: 0.0071 - accuracy: 0.9952 - val_loss: 0.1177 - val_accuracy: 0.9580\n",
      "Epoch 91/100\n",
      "3/3 [==============================] - 1s 164ms/step - loss: 0.0071 - accuracy: 0.9952 - val_loss: 0.1360 - val_accuracy: 0.9502\n",
      "Epoch 92/100\n",
      "3/3 [==============================] - 1s 159ms/step - loss: 0.0070 - accuracy: 0.9952 - val_loss: 0.1356 - val_accuracy: 0.9509\n",
      "Epoch 93/100\n",
      "3/3 [==============================] - 1s 159ms/step - loss: 0.0070 - accuracy: 0.9952 - val_loss: 0.1405 - val_accuracy: 0.9485\n",
      "Epoch 94/100\n",
      "3/3 [==============================] - 1s 160ms/step - loss: 0.0069 - accuracy: 0.9952 - val_loss: 0.1462 - val_accuracy: 0.9466\n",
      "Epoch 95/100\n",
      "3/3 [==============================] - 1s 155ms/step - loss: 0.0068 - accuracy: 0.9952 - val_loss: 0.1546 - val_accuracy: 0.9436\n",
      "Epoch 96/100\n",
      "3/3 [==============================] - 1s 156ms/step - loss: 0.0068 - accuracy: 0.9952 - val_loss: 0.1430 - val_accuracy: 0.9483\n",
      "Epoch 97/100\n",
      "3/3 [==============================] - 1s 157ms/step - loss: 0.0067 - accuracy: 0.9952 - val_loss: 0.1567 - val_accuracy: 0.9431\n",
      "Epoch 98/100\n",
      "3/3 [==============================] - 1s 154ms/step - loss: 0.0067 - accuracy: 0.9952 - val_loss: 0.1570 - val_accuracy: 0.9440\n",
      "Epoch 99/100\n",
      "3/3 [==============================] - 1s 157ms/step - loss: 0.0068 - accuracy: 0.9952 - val_loss: 0.1130 - val_accuracy: 0.9599\n",
      "Epoch 100/100\n",
      "3/3 [==============================] - 1s 152ms/step - loss: 0.0068 - accuracy: 0.9952 - val_loss: 0.1356 - val_accuracy: 0.9527\n"
     ]
    }
   ],
   "source": [
    "unet.train(X_train, X_val, y_train, y_val, lr=1e-3, batch_size=16, epochs=100)"
   ]
  },
  {
   "cell_type": "code",
   "execution_count": 12,
   "id": "13cfafd6-a714-4dc9-8ddc-58b5fefa491c",
   "metadata": {},
   "outputs": [
    {
     "data": {
      "image/png": "[encoded data removed]",
      "text/plain": [
       "<Figure size 432x288 with 1 Axes>"
      ]
     },
     "metadata": {
      "needs_background": "light"
     },
     "output_type": "display_data"
    }
   ],
   "source": [
    "unet.plot_loss()"
   ]
  },
  {
   "cell_type": "code",
   "execution_count": 13,
   "id": "7ace797d-95fd-4de0-bbab-59cc6026fa02",
   "metadata": {},
   "outputs": [
    {
     "data": {
      "image/png": "[encoded data removed]",
      "text/plain": [
       "<Figure size 432x288 with 1 Axes>"
      ]
     },
     "metadata": {
      "needs_background": "light"
     },
     "output_type": "display_data"
    }
   ],
   "source": [
    "unet.plot_accuracy()"
   ]
  },
  {
   "cell_type": "code",
   "execution_count": 14,
   "id": "e5e6c8da-4eb6-44cc-815b-0726a271dbe5",
   "metadata": {},
   "outputs": [
    {
     "name": "stdout",
     "output_type": "stream",
     "text": [
      "Accuracy: 0.9554094587053571\n",
      "Dice: 0.9027061895254185\n",
      "IoU: 0.8226658903097216\n"
     ]
    }
   ],
   "source": [
    "unet.evaluate_model(X_test, y_test)"
   ]
  },
  {
   "cell_type": "code",
   "execution_count": 15,
   "id": "263bef3f-86a9-48e9-b8e9-abae76340671",
   "metadata": {},
   "outputs": [
    {
     "name": "stdout",
     "output_type": "stream",
     "text": [
      "Accuracy: 0.9891028310738358\n",
      "Dice: 0.9758714889783344\n",
      "IoU: 0.9528799154364035\n"
     ]
    }
   ],
   "source": [
    "unet.evaluate_model(X_train, y_train)"
   ]
  },
  {
   "cell_type": "code",
   "execution_count": 16,
   "id": "6e22a90d-a50d-4c7b-b3bf-07ed4e95467a",
   "metadata": {},
   "outputs": [
    {
     "name": "stdout",
     "output_type": "stream",
     "text": [
      "Accuracy: 0.9926845005580357\n",
      "Dice: 0.9833448706343149\n",
      "IoU: 0.9672354392662601\n"
     ]
    }
   ],
   "source": [
    "unet.evaluate_model(X_val, y_val)"
   ]
  },
  {
   "cell_type": "markdown",
   "id": "b41cc47a-952f-48c2-922d-ad45efd4a5f6",
   "metadata": {},
   "source": [
    "# Training model with data Augmentation"
   ]
  },
  {
   "cell_type": "code",
   "execution_count": 17,
   "id": "df94b346-6e8e-4d98-842d-b69a58b0715b",
   "metadata": {},
   "outputs": [
    {
     "name": "stdout",
     "output_type": "stream",
     "text": [
      "Training images: 136\n",
      "Validation images: 28\n",
      "Test images: 7\n"
     ]
    }
   ],
   "source": [
    "X_train, X_val, y_train, y_val = add_data_augmentations(X_train, X_val, y_train, y_val)\n",
    "print(f\"Training images: {X_train.shape[0]}\")\n",
    "print(f\"Validation images: {X_val.shape[0]}\")\n",
    "print(f\"Test images: {X_test.shape[0]}\")"
   ]
  },
  {
   "cell_type": "code",
   "execution_count": 18,
   "id": "1aa24e2a-7e57-493f-9178-277febeadcdf",
   "metadata": {},
   "outputs": [],
   "source": [
    "unet = Unet(input_size=X_train[0].shape)"
   ]
  },
  {
   "cell_type": "code",
   "execution_count": 19,
   "id": "8b917778-ddec-45d6-ad2b-39d03df3527e",
   "metadata": {},
   "outputs": [
    {
     "name": "stdout",
     "output_type": "stream",
     "text": [
      "Epoch 1/100\n",
      "9/9 [==============================] - 5s 532ms/step - loss: 0.2478 - accuracy: 0.9166 - val_loss: 157.9994 - val_accuracy: 0.2552\n",
      "Epoch 2/100\n",
      "9/9 [==============================] - 2s 216ms/step - loss: 0.0824 - accuracy: 0.9757 - val_loss: 234.5209 - val_accuracy: 0.2552\n",
      "Epoch 3/100\n",
      "9/9 [==============================] - 2s 215ms/step - loss: 0.0599 - accuracy: 0.9821 - val_loss: 178.3188 - val_accuracy: 0.2552\n",
      "Epoch 4/100\n",
      "9/9 [==============================] - 2s 217ms/step - loss: 0.0433 - accuracy: 0.9867 - val_loss: 64.0896 - val_accuracy: 0.2553\n",
      "Epoch 5/100\n",
      "9/9 [==============================] - 2s 216ms/step - loss: 0.0325 - accuracy: 0.9898 - val_loss: 67.3140 - val_accuracy: 0.2554\n",
      "Epoch 6/100\n",
      "9/9 [==============================] - 2s 211ms/step - loss: 0.0268 - accuracy: 0.9910 - val_loss: 26.7720 - val_accuracy: 0.2555\n",
      "Epoch 7/100\n",
      "9/9 [==============================] - 2s 214ms/step - loss: 0.0237 - accuracy: 0.9916 - val_loss: 80.2666 - val_accuracy: 0.2556\n",
      "Epoch 8/100\n",
      "9/9 [==============================] - 2s 216ms/step - loss: 0.0206 - accuracy: 0.9923 - val_loss: 49.8440 - val_accuracy: 0.2595\n",
      "Epoch 9/100\n",
      "9/9 [==============================] - 2s 213ms/step - loss: 0.0184 - accuracy: 0.9927 - val_loss: 17.3936 - val_accuracy: 0.2821\n",
      "Epoch 10/100\n",
      "9/9 [==============================] - 2s 216ms/step - loss: 0.0170 - accuracy: 0.9930 - val_loss: 13.0312 - val_accuracy: 0.2857\n",
      "Epoch 11/100\n",
      "9/9 [==============================] - 2s 214ms/step - loss: 0.0156 - accuracy: 0.9933 - val_loss: 9.5589 - val_accuracy: 0.3025\n",
      "Epoch 12/100\n",
      "9/9 [==============================] - 2s 214ms/step - loss: 0.0146 - accuracy: 0.9935 - val_loss: 6.5604 - val_accuracy: 0.3157\n",
      "Epoch 13/100\n",
      "9/9 [==============================] - 2s 216ms/step - loss: 0.0141 - accuracy: 0.9935 - val_loss: 1.7315 - val_accuracy: 0.5687\n",
      "Epoch 14/100\n",
      "9/9 [==============================] - 2s 214ms/step - loss: 0.0136 - accuracy: 0.9935 - val_loss: 1.0014 - val_accuracy: 0.6669\n",
      "Epoch 15/100\n",
      "9/9 [==============================] - 2s 212ms/step - loss: 0.0137 - accuracy: 0.9934 - val_loss: 0.6499 - val_accuracy: 0.7749\n",
      "Epoch 16/100\n",
      "9/9 [==============================] - 2s 211ms/step - loss: 0.0133 - accuracy: 0.9934 - val_loss: 0.2467 - val_accuracy: 0.9037\n",
      "Epoch 17/100\n",
      "9/9 [==============================] - 2s 223ms/step - loss: 0.0127 - accuracy: 0.9936 - val_loss: 0.0546 - val_accuracy: 0.9808\n",
      "Epoch 18/100\n",
      "9/9 [==============================] - 2s 223ms/step - loss: 0.0125 - accuracy: 0.9936 - val_loss: 0.0328 - val_accuracy: 0.9891\n",
      "Epoch 19/100\n",
      "9/9 [==============================] - 2s 224ms/step - loss: 0.0133 - accuracy: 0.9933 - val_loss: 4.0785 - val_accuracy: 0.3218\n",
      "Epoch 20/100\n",
      "9/9 [==============================] - 2s 220ms/step - loss: 0.0127 - accuracy: 0.9934 - val_loss: 9.0792 - val_accuracy: 0.3144\n",
      "Epoch 21/100\n",
      "9/9 [==============================] - 2s 217ms/step - loss: 0.0139 - accuracy: 0.9929 - val_loss: 18.1529 - val_accuracy: 0.3169\n",
      "Epoch 22/100\n",
      "9/9 [==============================] - 2s 213ms/step - loss: 0.0131 - accuracy: 0.9932 - val_loss: 0.4496 - val_accuracy: 0.8253\n",
      "Epoch 23/100\n",
      "9/9 [==============================] - 2s 212ms/step - loss: 0.0118 - accuracy: 0.9936 - val_loss: 3.7178 - val_accuracy: 0.3983\n",
      "Epoch 24/100\n",
      "9/9 [==============================] - 2s 211ms/step - loss: 0.0108 - accuracy: 0.9939 - val_loss: 1.7491 - val_accuracy: 0.5871\n",
      "Epoch 25/100\n",
      "9/9 [==============================] - 2s 212ms/step - loss: 0.0104 - accuracy: 0.9940 - val_loss: 0.8882 - val_accuracy: 0.7303\n",
      "Epoch 26/100\n",
      "9/9 [==============================] - 2s 214ms/step - loss: 0.0098 - accuracy: 0.9942 - val_loss: 0.4878 - val_accuracy: 0.8274\n",
      "Epoch 27/100\n",
      "9/9 [==============================] - 2s 220ms/step - loss: 0.0094 - accuracy: 0.9943 - val_loss: 0.1628 - val_accuracy: 0.9417\n",
      "Epoch 28/100\n",
      "9/9 [==============================] - 2s 222ms/step - loss: 0.0091 - accuracy: 0.9944 - val_loss: 0.0495 - val_accuracy: 0.9797\n",
      "Epoch 29/100\n",
      "9/9 [==============================] - 2s 216ms/step - loss: 0.0092 - accuracy: 0.9943 - val_loss: 0.0299 - val_accuracy: 0.9883\n",
      "Epoch 30/100\n",
      "9/9 [==============================] - 2s 212ms/step - loss: 0.0090 - accuracy: 0.9944 - val_loss: 0.0171 - val_accuracy: 0.9927\n",
      "Epoch 31/100\n",
      "9/9 [==============================] - 2s 225ms/step - loss: 0.0093 - accuracy: 0.9942 - val_loss: 0.0386 - val_accuracy: 0.9853\n",
      "Epoch 32/100\n",
      "9/9 [==============================] - 2s 217ms/step - loss: 0.0094 - accuracy: 0.9942 - val_loss: 0.0211 - val_accuracy: 0.9902\n",
      "Epoch 33/100\n",
      "9/9 [==============================] - 2s 219ms/step - loss: 0.0095 - accuracy: 0.9941 - val_loss: 0.0342 - val_accuracy: 0.9847\n",
      "Epoch 34/100\n",
      "9/9 [==============================] - 2s 205ms/step - loss: 0.0093 - accuracy: 0.9942 - val_loss: 0.0187 - val_accuracy: 0.9909\n",
      "Epoch 35/100\n",
      "9/9 [==============================] - 2s 211ms/step - loss: 0.0096 - accuracy: 0.9940 - val_loss: 0.0470 - val_accuracy: 0.9817\n",
      "Epoch 36/100\n",
      "9/9 [==============================] - 2s 223ms/step - loss: 0.0092 - accuracy: 0.9942 - val_loss: 0.0266 - val_accuracy: 0.9887\n",
      "Epoch 37/100\n",
      "9/9 [==============================] - 2s 222ms/step - loss: 0.0087 - accuracy: 0.9943 - val_loss: 0.0391 - val_accuracy: 0.9831\n",
      "Epoch 38/100\n",
      "9/9 [==============================] - 2s 223ms/step - loss: 0.0092 - accuracy: 0.9942 - val_loss: 0.0329 - val_accuracy: 0.9868\n",
      "Epoch 39/100\n",
      "9/9 [==============================] - 2s 227ms/step - loss: 0.0092 - accuracy: 0.9941 - val_loss: 0.1616 - val_accuracy: 0.9305\n",
      "Epoch 40/100\n",
      "9/9 [==============================] - 2s 226ms/step - loss: 0.0088 - accuracy: 0.9942 - val_loss: 0.0167 - val_accuracy: 0.9920\n",
      "Epoch 41/100\n",
      "9/9 [==============================] - 2s 224ms/step - loss: 0.0090 - accuracy: 0.9942 - val_loss: 0.0281 - val_accuracy: 0.9888\n",
      "Epoch 42/100\n",
      "9/9 [==============================] - 2s 221ms/step - loss: 0.0082 - accuracy: 0.9944 - val_loss: 2.0650 - val_accuracy: 0.4552\n",
      "Epoch 43/100\n",
      "9/9 [==============================] - 2s 216ms/step - loss: 0.0082 - accuracy: 0.9945 - val_loss: 0.0243 - val_accuracy: 0.9897\n",
      "Epoch 44/100\n",
      "9/9 [==============================] - 2s 211ms/step - loss: 0.0081 - accuracy: 0.9945 - val_loss: 0.0205 - val_accuracy: 0.9905\n",
      "Epoch 45/100\n",
      "9/9 [==============================] - 2s 214ms/step - loss: 0.0077 - accuracy: 0.9946 - val_loss: 0.5179 - val_accuracy: 0.8834\n",
      "Epoch 46/100\n",
      "9/9 [==============================] - 2s 224ms/step - loss: 0.0079 - accuracy: 0.9945 - val_loss: 0.0160 - val_accuracy: 0.9927\n",
      "Epoch 47/100\n",
      "9/9 [==============================] - 2s 216ms/step - loss: 0.0082 - accuracy: 0.9944 - val_loss: 0.3788 - val_accuracy: 0.8965\n",
      "Epoch 48/100\n",
      "9/9 [==============================] - 2s 217ms/step - loss: 0.0078 - accuracy: 0.9945 - val_loss: 0.0262 - val_accuracy: 0.9894\n",
      "Epoch 49/100\n",
      "9/9 [==============================] - 2s 214ms/step - loss: 0.0077 - accuracy: 0.9946 - val_loss: 0.0139 - val_accuracy: 0.9928\n",
      "Epoch 50/100\n",
      "9/9 [==============================] - 2s 220ms/step - loss: 0.0074 - accuracy: 0.9947 - val_loss: 0.0123 - val_accuracy: 0.9936\n",
      "Epoch 51/100\n",
      "9/9 [==============================] - 2s 222ms/step - loss: 0.0071 - accuracy: 0.9948 - val_loss: 0.0334 - val_accuracy: 0.9851\n",
      "Epoch 52/100\n",
      "9/9 [==============================] - 2s 220ms/step - loss: 0.0068 - accuracy: 0.9949 - val_loss: 0.0169 - val_accuracy: 0.9920\n",
      "Epoch 53/100\n",
      "9/9 [==============================] - 2s 212ms/step - loss: 0.0065 - accuracy: 0.9950 - val_loss: 0.0101 - val_accuracy: 0.9942\n",
      "Epoch 54/100\n",
      "9/9 [==============================] - 2s 211ms/step - loss: 0.0064 - accuracy: 0.9950 - val_loss: 0.0101 - val_accuracy: 0.9943\n",
      "Epoch 55/100\n",
      "9/9 [==============================] - 2s 218ms/step - loss: 0.0065 - accuracy: 0.9950 - val_loss: 0.0106 - val_accuracy: 0.9941\n",
      "Epoch 56/100\n",
      "9/9 [==============================] - 2s 218ms/step - loss: 0.0065 - accuracy: 0.9950 - val_loss: 0.0098 - val_accuracy: 0.9943\n",
      "Epoch 57/100\n",
      "9/9 [==============================] - 2s 219ms/step - loss: 0.0066 - accuracy: 0.9949 - val_loss: 0.0133 - val_accuracy: 0.9930\n",
      "Epoch 58/100\n",
      "9/9 [==============================] - 2s 221ms/step - loss: 0.0065 - accuracy: 0.9950 - val_loss: 0.0122 - val_accuracy: 0.9935\n",
      "Epoch 59/100\n",
      "9/9 [==============================] - 2s 221ms/step - loss: 0.0068 - accuracy: 0.9949 - val_loss: 0.0161 - val_accuracy: 0.9923\n",
      "Epoch 60/100\n",
      "9/9 [==============================] - 2s 222ms/step - loss: 0.0074 - accuracy: 0.9947 - val_loss: 0.0114 - val_accuracy: 0.9939\n",
      "Epoch 61/100\n",
      "9/9 [==============================] - 2s 223ms/step - loss: 0.0076 - accuracy: 0.9946 - val_loss: 0.0153 - val_accuracy: 0.9928\n",
      "Epoch 62/100\n",
      "9/9 [==============================] - 2s 217ms/step - loss: 0.0079 - accuracy: 0.9944 - val_loss: 0.0656 - val_accuracy: 0.9753\n",
      "Epoch 63/100\n",
      "9/9 [==============================] - 2s 218ms/step - loss: 0.0076 - accuracy: 0.9945 - val_loss: 0.0931 - val_accuracy: 0.9711\n",
      "Epoch 64/100\n",
      "9/9 [==============================] - 2s 212ms/step - loss: 0.0069 - accuracy: 0.9948 - val_loss: 0.0206 - val_accuracy: 0.9901\n",
      "Epoch 65/100\n",
      "9/9 [==============================] - 2s 211ms/step - loss: 0.0070 - accuracy: 0.9947 - val_loss: 0.0132 - val_accuracy: 0.9931\n",
      "Epoch 66/100\n",
      "9/9 [==============================] - 2s 211ms/step - loss: 0.0070 - accuracy: 0.9947 - val_loss: 0.0202 - val_accuracy: 0.9909\n",
      "Epoch 67/100\n",
      "9/9 [==============================] - 2s 214ms/step - loss: 0.0070 - accuracy: 0.9947 - val_loss: 0.0168 - val_accuracy: 0.9924\n",
      "Epoch 68/100\n",
      "9/9 [==============================] - 2s 218ms/step - loss: 0.0067 - accuracy: 0.9948 - val_loss: 0.0138 - val_accuracy: 0.9931\n",
      "Epoch 69/100\n",
      "9/9 [==============================] - 2s 219ms/step - loss: 0.0065 - accuracy: 0.9949 - val_loss: 0.0226 - val_accuracy: 0.9901\n",
      "Epoch 70/100\n",
      "9/9 [==============================] - 2s 219ms/step - loss: 0.0063 - accuracy: 0.9950 - val_loss: 0.0127 - val_accuracy: 0.9935\n",
      "Epoch 71/100\n",
      "9/9 [==============================] - 2s 219ms/step - loss: 0.0064 - accuracy: 0.9950 - val_loss: 0.0279 - val_accuracy: 0.9892\n",
      "Epoch 72/100\n",
      "9/9 [==============================] - 2s 218ms/step - loss: 0.0060 - accuracy: 0.9951 - val_loss: 0.0161 - val_accuracy: 0.9924\n",
      "Epoch 73/100\n",
      "9/9 [==============================] - 2s 218ms/step - loss: 0.0062 - accuracy: 0.9950 - val_loss: 0.0192 - val_accuracy: 0.9915\n",
      "Epoch 74/100\n",
      "9/9 [==============================] - 2s 220ms/step - loss: 0.0060 - accuracy: 0.9951 - val_loss: 0.0189 - val_accuracy: 0.9919\n",
      "Epoch 75/100\n",
      "9/9 [==============================] - 2s 217ms/step - loss: 0.0058 - accuracy: 0.9951 - val_loss: 0.0103 - val_accuracy: 0.9942\n",
      "Epoch 76/100\n",
      "9/9 [==============================] - 2s 214ms/step - loss: 0.0059 - accuracy: 0.9951 - val_loss: 0.0338 - val_accuracy: 0.9878\n",
      "Epoch 77/100\n",
      "9/9 [==============================] - 2s 209ms/step - loss: 0.0063 - accuracy: 0.9950 - val_loss: 0.0121 - val_accuracy: 0.9936\n",
      "Epoch 78/100\n",
      "9/9 [==============================] - 2s 197ms/step - loss: 0.0060 - accuracy: 0.9951 - val_loss: 0.0281 - val_accuracy: 0.9888\n",
      "Epoch 79/100\n",
      "9/9 [==============================] - 2s 197ms/step - loss: 0.0061 - accuracy: 0.9950 - val_loss: 0.0176 - val_accuracy: 0.9919\n",
      "Epoch 80/100\n",
      "9/9 [==============================] - 2s 200ms/step - loss: 0.0063 - accuracy: 0.9950 - val_loss: 0.0171 - val_accuracy: 0.9920\n",
      "Epoch 81/100\n",
      "9/9 [==============================] - 2s 208ms/step - loss: 0.0061 - accuracy: 0.9950 - val_loss: 0.0175 - val_accuracy: 0.9920\n",
      "Epoch 82/100\n",
      "9/9 [==============================] - 2s 223ms/step - loss: 0.0060 - accuracy: 0.9950 - val_loss: 0.0130 - val_accuracy: 0.9935\n",
      "Epoch 83/100\n",
      "9/9 [==============================] - 2s 216ms/step - loss: 0.0060 - accuracy: 0.9951 - val_loss: 0.0264 - val_accuracy: 0.9876\n",
      "Epoch 84/100\n",
      "9/9 [==============================] - 2s 210ms/step - loss: 0.0057 - accuracy: 0.9952 - val_loss: 0.0697 - val_accuracy: 0.9816\n",
      "Epoch 85/100\n",
      "9/9 [==============================] - 2s 210ms/step - loss: 0.0054 - accuracy: 0.9952 - val_loss: 0.0117 - val_accuracy: 0.9936\n",
      "Epoch 86/100\n",
      "9/9 [==============================] - 2s 213ms/step - loss: 0.0052 - accuracy: 0.9953 - val_loss: 0.0128 - val_accuracy: 0.9936\n",
      "Epoch 87/100\n",
      "9/9 [==============================] - 2s 212ms/step - loss: 0.0051 - accuracy: 0.9953 - val_loss: 0.0133 - val_accuracy: 0.9934\n",
      "Epoch 88/100\n",
      "9/9 [==============================] - 2s 214ms/step - loss: 0.0050 - accuracy: 0.9954 - val_loss: 0.0134 - val_accuracy: 0.9936\n",
      "Epoch 89/100\n",
      "9/9 [==============================] - 2s 215ms/step - loss: 0.0050 - accuracy: 0.9954 - val_loss: 0.0123 - val_accuracy: 0.9938\n",
      "Epoch 90/100\n",
      "9/9 [==============================] - 2s 222ms/step - loss: 0.0050 - accuracy: 0.9954 - val_loss: 0.0122 - val_accuracy: 0.9939\n",
      "Epoch 91/100\n",
      "9/9 [==============================] - 2s 219ms/step - loss: 0.0050 - accuracy: 0.9954 - val_loss: 0.0114 - val_accuracy: 0.9940\n",
      "Epoch 92/100\n",
      "9/9 [==============================] - 2s 214ms/step - loss: 0.0054 - accuracy: 0.9952 - val_loss: 0.0141 - val_accuracy: 0.9931\n",
      "Epoch 93/100\n",
      "9/9 [==============================] - 2s 213ms/step - loss: 0.0058 - accuracy: 0.9951 - val_loss: 0.0143 - val_accuracy: 0.9931\n",
      "Epoch 94/100\n",
      "9/9 [==============================] - 2s 222ms/step - loss: 0.0060 - accuracy: 0.9951 - val_loss: 0.0192 - val_accuracy: 0.9913\n",
      "Epoch 95/100\n",
      "9/9 [==============================] - 2s 213ms/step - loss: 0.0062 - accuracy: 0.9950 - val_loss: 0.2125 - val_accuracy: 0.9339\n",
      "Epoch 96/100\n",
      "9/9 [==============================] - 2s 211ms/step - loss: 0.0061 - accuracy: 0.9950 - val_loss: 0.0245 - val_accuracy: 0.9905\n",
      "Epoch 97/100\n",
      "9/9 [==============================] - 2s 210ms/step - loss: 0.0058 - accuracy: 0.9951 - val_loss: 0.0129 - val_accuracy: 0.9934\n",
      "Epoch 98/100\n",
      "9/9 [==============================] - 2s 216ms/step - loss: 0.0058 - accuracy: 0.9951 - val_loss: 0.0522 - val_accuracy: 0.9850\n",
      "Epoch 99/100\n",
      "9/9 [==============================] - 2s 219ms/step - loss: 0.0062 - accuracy: 0.9949 - val_loss: 0.0225 - val_accuracy: 0.9901\n",
      "Epoch 100/100\n",
      "9/9 [==============================] - 2s 212ms/step - loss: 0.0060 - accuracy: 0.9950 - val_loss: 0.0256 - val_accuracy: 0.9881\n"
     ]
    }
   ],
   "source": [
    "unet.train(X_train, X_val, y_train, y_val, lr=1e-3, batch_size=16, epochs=100)"
   ]
  },
  {
   "cell_type": "code",
   "execution_count": 20,
   "id": "d5720d9d-82b5-47c1-bcc2-798e33020fef",
   "metadata": {},
   "outputs": [
    {
     "data": {
      "image/png": "[encoded data removed]",
      "text/plain": [
       "<Figure size 432x288 with 1 Axes>"
      ]
     },
     "metadata": {
      "needs_background": "light"
     },
     "output_type": "display_data"
    }
   ],
   "source": [
    "unet.plot_loss()"
   ]
  },
  {
   "cell_type": "code",
   "execution_count": 21,
   "id": "1ad569ba-0367-4b10-92a0-876f5cdb68d4",
   "metadata": {},
   "outputs": [
    {
     "data": {
      "image/png": "[encoded data removed]",
      "text/plain": [
       "<Figure size 432x288 with 1 Axes>"
      ]
     },
     "metadata": {
      "needs_background": "light"
     },
     "output_type": "display_data"
    }
   ],
   "source": [
    "unet.plot_accuracy()"
   ]
  },
  {
   "cell_type": "code",
   "execution_count": 22,
   "id": "80af4436-12d6-4972-b421-81b9bf91d49c",
   "metadata": {},
   "outputs": [
    {
     "name": "stdout",
     "output_type": "stream",
     "text": [
      "Accuracy: 0.9896327427455357\n",
      "Dice: 0.981979179397158\n",
      "IoU: 0.9645963614139629\n"
     ]
    }
   ],
   "source": [
    "unet.evaluate_model(X_test, y_test)"
   ]
  },
  {
   "cell_type": "code",
   "execution_count": 23,
   "id": "8bb90770-137e-4d97-b4d3-ba6f312e1142",
   "metadata": {},
   "outputs": [
    {
     "name": "stdout",
     "output_type": "stream",
     "text": [
      "Accuracy: 0.9956813139073989\n",
      "Dice: 0.992005893420012\n",
      "IoU: 0.9841385846845649\n"
     ]
    }
   ],
   "source": [
    "unet.evaluate_model(X_train, y_train)"
   ]
  },
  {
   "cell_type": "code",
   "execution_count": 24,
   "id": "471de3d1-7815-4453-935d-ad63ceb545e8",
   "metadata": {},
   "outputs": [
    {
     "name": "stdout",
     "output_type": "stream",
     "text": [
      "Accuracy: 0.9804636637369791\n",
      "Dice: 0.9635799356566079\n",
      "IoU: 0.9297194919388879\n"
     ]
    }
   ],
   "source": [
    "unet.evaluate_model(X_val, y_val)"
   ]
  },
  {
   "cell_type": "code",
   "execution_count": 26,
   "id": "077df8e2-7e9a-4e3a-b276-f6a707726f4e",
   "metadata": {},
   "outputs": [
    {
     "name": "stdout",
     "output_type": "stream",
     "text": [
      "Mean IoU = 0.97347176\n"
     ]
    }
   ],
   "source": [
    "from tensorflow.keras.metrics import MeanIoU\n",
    "n_classes = 2\n",
    "IOU_keras = MeanIoU(num_classes=n_classes)  \n",
    "IOU_keras.update_state(unet.predict_batch(X_test), y_test)\n",
    "print(\"Mean IoU =\", IOU_keras.result().numpy())"
   ]
  },
  {
   "cell_type": "code",
   "execution_count": 27,
   "id": "d9292de1-e998-4874-8a95-a0f158cb18b5",
   "metadata": {},
   "outputs": [
    {
     "ename": "ImportError",
     "evalue": "cannot import name 'IoU' from 'tensorflow.keras.metrics' (/home/kavi/Insync/kavilann@gmail.com/Google Drive/Wits Com Sci/Semester 2/CV/puzzle-piece-segmentation/venv/lib/python3.8/site-packages/keras/api/_v2/keras/metrics/__init__.py)",
     "output_type": "error",
     "traceback": [
      "\u001b[0;31m---------------------------------------------------------------------------\u001b[0m",
      "\u001b[0;31mImportError\u001b[0m                               Traceback (most recent call last)",
      "\u001b[0;32m/tmp/ipykernel_40672/3474324785.py\u001b[0m in \u001b[0;36m<module>\u001b[0;34m\u001b[0m\n\u001b[0;32m----> 1\u001b[0;31m \u001b[0;32mfrom\u001b[0m \u001b[0mtensorflow\u001b[0m\u001b[0;34m.\u001b[0m\u001b[0mkeras\u001b[0m\u001b[0;34m.\u001b[0m\u001b[0mmetrics\u001b[0m \u001b[0;32mimport\u001b[0m \u001b[0mIoU\u001b[0m\u001b[0;34m\u001b[0m\u001b[0;34m\u001b[0m\u001b[0m\n\u001b[0m",
      "\u001b[0;31mImportError\u001b[0m: cannot import name 'IoU' from 'tensorflow.keras.metrics' (/home/kavi/Insync/kavilann@gmail.com/Google Drive/Wits Com Sci/Semester 2/CV/puzzle-piece-segmentation/venv/lib/python3.8/site-packages/keras/api/_v2/keras/metrics/__init__.py)"
     ]
    }
   ],
   "source": [
    "from tensorflow.keras.metrics import IoU"
   ]
  },
  {
   "cell_type": "code",
   "execution_count": 29,
   "id": "790ccbf5-503b-44fc-affe-437890ef104b",
   "metadata": {},
   "outputs": [
    {
     "name": "stdout",
     "output_type": "stream",
     "text": [
      "Acc = 0.97347176\n"
     ]
    }
   ],
   "source": [
    "from tensorflow.keras.metrics import Accuracy\n",
    "acc_keras = Accuracy()  \n",
    "acc_keras.update_state(unet.predict_batch(X_test), y_test)\n",
    "print(\"Acc =\", IOU_keras.result().numpy())"
   ]
  },
  {
   "cell_type": "code",
   "execution_count": null,
   "id": "dd8b93a8-ccfd-467b-80e9-aeae2e1ae374",
   "metadata": {},
   "outputs": [],
   "source": []
  }
 ],
 "metadata": {
  "kernelspec": {
   "display_name": "Python 3 (ipykernel)",
   "language": "python",
   "name": "python3"
  },
  "language_info": {
   "codemirror_mode": {
    "name": "ipython",
    "version": 3
   },
   "file_extension": ".py",
   "mimetype": "text/x-python",
   "name": "python",
   "nbconvert_exporter": "python",
   "pygments_lexer": "ipython3",
   "version": "3.8.0"
  }
 },
 "nbformat": 4,
 "nbformat_minor": 5
}
