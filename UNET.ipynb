{
 "cells": [
  {
   "cell_type": "code",
   "execution_count": 1,
   "id": "7f8816d7-1082-4f5a-8fc3-207e6120a046",
   "metadata": {},
   "outputs": [],
   "source": [
    "from natsort import natsorted\n",
    "import os\n",
    "import re\n",
    "from glob import glob\n",
    "import json\n",
    "import numpy as np\n",
    "import matplotlib.pyplot as plt\n",
    "import seaborn\n",
    "import networkx as nx\n",
    "\n",
    "\n",
    "import imageio\n",
    "import cv2\n",
    "import skimage\n",
    "from skimage import img_as_float32, img_as_ubyte, img_as_uint\n",
    "from skimage.feature import canny\n",
    "from skimage.color import rgb2gray, rgb2hsv, gray2rgb, rgba2rgb\n",
    "from sklearn.model_selection import train_test_split\n",
    "from sklearn.metrics import accuracy_score\n",
    "from functools import partial\n",
    "from tqdm.notebook import tqdm\n",
    "\n",
    "import tensorflow as tf\n",
    "from tensorflow.keras.layers import Conv2D, BatchNormalization, Activation, MaxPool2D, Conv2DTranspose, Concatenate, Input\n",
    "from tensorflow.keras.models import Model\n",
    "from tensorflow.keras.optimizers import Adam\n",
    "from tensorflow.keras.applications import VGG16\n",
    "from tensorflow.keras import metrics\n",
    "\n",
    "# caching with sane defaults\n",
    "from cachier import cachier"
   ]
  },
  {
   "cell_type": "code",
   "execution_count": 2,
   "id": "120ad08e-216c-48bf-b4b2-5b70e3dff654",
   "metadata": {},
   "outputs": [],
   "source": [
    "os.environ['TF_CPP_MIN_LOG_LEVEL'] = '3' "
   ]
  },
  {
   "cell_type": "code",
   "execution_count": 3,
   "id": "04735725-8c6e-4512-93b5-c5c3f27be91d",
   "metadata": {},
   "outputs": [],
   "source": [
    "tqdm = partial(tqdm, position=0, leave=True)\n",
    "\n",
    "\n",
    "cachier = partial(cachier, pickle_reload=False, cache_dir=\"data/cache\")"
   ]
  },
  {
   "cell_type": "markdown",
   "id": "6ea52e54-6e48-4514-b4a7-bd793c6ec655",
   "metadata": {},
   "source": [
    "### Read and Scale data"
   ]
  },
  {
   "cell_type": "code",
   "execution_count": 4,
   "id": "5ec4f778-b26a-4484-901b-f7cfcaa1c73c",
   "metadata": {},
   "outputs": [
    {
     "data": {
      "application/vnd.jupyter.widget-view+json": {
       "model_id": "596a62efcdba4bd2bf914cae93b2484c",
       "version_major": 2,
       "version_minor": 0
      },
      "text/plain": [
       "Loading Images:   0%|          | 0/48 [00:00<?, ?it/s]"
      ]
     },
     "metadata": {},
     "output_type": "display_data"
    },
    {
     "data": {
      "application/vnd.jupyter.widget-view+json": {
       "model_id": "07df9fc0edd543328bd34bda6d519340",
       "version_major": 2,
       "version_minor": 0
      },
      "text/plain": [
       "Loading Masks:   0%|          | 0/48 [00:00<?, ?it/s]"
      ]
     },
     "metadata": {},
     "output_type": "display_data"
    },
    {
     "data": {
      "application/vnd.jupyter.widget-view+json": {
       "model_id": "bd2a2cd775ab41b89feb6c1893f110da",
       "version_major": 2,
       "version_minor": 0
      },
      "text/plain": [
       "Resizing Images:   0%|          | 0/48 [00:00<?, ?it/s]"
      ]
     },
     "metadata": {},
     "output_type": "display_data"
    },
    {
     "data": {
      "application/vnd.jupyter.widget-view+json": {
       "model_id": "b11e02edd16f415fa47f7b67496f4d91",
       "version_major": 2,
       "version_minor": 0
      },
      "text/plain": [
       "Resizing Masks:   0%|          | 0/48 [00:00<?, ?it/s]"
      ]
     },
     "metadata": {},
     "output_type": "display_data"
    }
   ],
   "source": [
    "############################## Stuff for loading and rescaling the puzzle pieces nicely ################################\n",
    "SIZE = (768, 1024)\n",
    "\n",
    "DATA_PATH_PAIRS = list(\n",
    "    zip(\n",
    "        natsorted(\n",
    "            glob(\n",
    "                f\"puzzle_corners_{SIZE[1]}x{SIZE[0]}/images-{SIZE[1]}x{SIZE[0]}/*.png\"\n",
    "            )\n",
    "        ),\n",
    "        natsorted(\n",
    "            glob(\n",
    "                f\"puzzle_corners_{SIZE[1]}x{SIZE[0]}/masks-{SIZE[1]}x{SIZE[0]}/*.png\"\n",
    "            )\n",
    "        ),\n",
    "    )\n",
    ")\n",
    "DATA_IMGS = np.array(\n",
    "    [\n",
    "        img_as_float32(imageio.imread(img_path))\n",
    "        for img_path, _ in tqdm(DATA_PATH_PAIRS, \"Loading Images\")\n",
    "    ]\n",
    ")\n",
    "DATA_MSKS = np.array(\n",
    "    [\n",
    "        img_as_float32(imageio.imread(msk_path))\n",
    "        for _, msk_path in tqdm(DATA_PATH_PAIRS, \"Loading Masks\")\n",
    "    ]\n",
    ")\n",
    "\n",
    "SCALE = 0.25\n",
    "MATCH_IMGS = np.array([\n",
    "    cv2.resize(img, None, fx=SCALE, fy=SCALE)\n",
    "    for img in tqdm(DATA_IMGS, \"Resizing Images\")\n",
    "])\n",
    "MATCH_MSKS = np.array([\n",
    "    np.expand_dims(cv2.resize(img, None, fx=SCALE, fy=SCALE), axis=2)\n",
    "    for img in tqdm(DATA_MSKS, \"Resizing Masks\")\n",
    "])"
   ]
  },
  {
   "cell_type": "code",
   "execution_count": 5,
   "id": "4e0c71ae-87fa-4264-b4cd-ca5f088d2aa3",
   "metadata": {},
   "outputs": [],
   "source": [
    "def plot_img(img):\n",
    "    plt.imshow(img, cmap='gray')\n",
    "    plt.show"
   ]
  },
  {
   "cell_type": "markdown",
   "id": "545e8a8d-f36f-4bc3-bd26-8398926332df",
   "metadata": {},
   "source": [
    "# Data augmentations"
   ]
  },
  {
   "cell_type": "code",
   "execution_count": 6,
   "id": "5be2e8cf-afcf-46cb-b13e-4b368ea354b3",
   "metadata": {},
   "outputs": [],
   "source": [
    "def train_val_test_split(X, y, train_count=34, val_count=7, test_count=7, random_state=42):\n",
    "    \"\"\" Split data into train, validation and test sets\"\"\"\n",
    "    # Obtain percentage split values\n",
    "    total_data_size = X.shape[0]\n",
    "    train_size = train_count / total_data_size\n",
    "    val_size = val_count / total_data_size\n",
    "    test_size = val_count / total_data_size\n",
    "   \n",
    "    X_train, X_rem, y_train, y_rem = train_test_split(X, y, train_size=train_size, random_state=random_state)\n",
    "    val_size = val_size/(val_size+test_size)\n",
    "    X_val, X_test, y_val, y_test = train_test_split(X_rem, y_rem, train_size=val_size, random_state=random_state)\n",
    "    \n",
    "    print(f\"Training images: {X_train.shape[0]}\")\n",
    "    print(f\"Validation images: {X_val.shape[0]}\")\n",
    "    print(f\"Test images: {X_test.shape[0]}\")\n",
    "    \n",
    "    return X_train, X_val, X_test, y_train, y_val, y_test"
   ]
  },
  {
   "cell_type": "code",
   "execution_count": 7,
   "id": "543b7b03-551e-459e-8f67-229595d25e56",
   "metadata": {},
   "outputs": [
    {
     "name": "stdout",
     "output_type": "stream",
     "text": [
      "Training images: 34\n",
      "Validation images: 7\n",
      "Test images: 7\n"
     ]
    }
   ],
   "source": [
    "X_train, X_val, X_test, y_train, y_val, y_test = train_val_test_split(MATCH_IMGS, MATCH_MSKS)"
   ]
  },
  {
   "cell_type": "code",
   "execution_count": 8,
   "id": "36c34992-f677-4b8b-a6d3-88935e4b0ec4",
   "metadata": {},
   "outputs": [],
   "source": [
    "def apply_image_aug(aug_func, X_train, X_val, y_train, y_val):\n",
    "    \n",
    "    X_train = np.append(X_train, aug_func(X_train[:34]).numpy(), 0)\n",
    "    y_train = np.append(y_train, aug_func(y_train[:34]).numpy(), 0)\n",
    "    \n",
    "    X_val = np.append(X_val, aug_func(X_val[:7]).numpy(), 0)\n",
    "    y_val = np.append(y_val, aug_func(y_val[:7]).numpy(), 0)\n",
    "    \n",
    "    return X_train, X_val, y_train, y_val\n",
    "    "
   ]
  },
  {
   "cell_type": "code",
   "execution_count": 9,
   "id": "835d1784-5d82-4855-b60e-2242c00cfd5c",
   "metadata": {},
   "outputs": [],
   "source": [
    "def add_data_augmentations(X_train, X_val, y_train, y_val):\n",
    "    # Spatial augmentations\n",
    "    \n",
    "    ## Flipping\n",
    "    \n",
    "    X_train, X_val, y_train, y_val = apply_image_aug(tf.image.flip_left_right, X_train, X_val, y_train, y_val)\n",
    "    X_train, X_val, y_train, y_val = apply_image_aug(tf.image.flip_up_down, X_train, X_val, y_train, y_val)    \n",
    "    \n",
    "    ## Rotation\n",
    "    \n",
    "    # Pixel augmentations\n",
    "    \n",
    "    ## Brightness\n",
    "    \n",
    "    ## Contrast\n",
    "    \n",
    "    ## Saturation\n",
    "    \n",
    "    ## Hue\n",
    "    \n",
    "    \n",
    "    return X_train, X_val, y_train, y_val"
   ]
  },
  {
   "cell_type": "code",
   "execution_count": 10,
   "id": "fd946bbc-ce06-4686-ba9b-63749dfaed72",
   "metadata": {},
   "outputs": [
    {
     "name": "stdout",
     "output_type": "stream",
     "text": [
      "Training images: 34\n",
      "Validation images: 7\n",
      "Test images: 7\n"
     ]
    }
   ],
   "source": [
    "print(f\"Training images: {X_train.shape[0]}\")\n",
    "print(f\"Validation images: {X_val.shape[0]}\")\n",
    "print(f\"Test images: {X_test.shape[0]}\")\n"
   ]
  },
  {
   "cell_type": "code",
   "execution_count": 11,
   "id": "f7df1d70-8037-4c8a-8146-dc1a11128a24",
   "metadata": {},
   "outputs": [],
   "source": [
    "X_train, X_val, y_train, y_val = add_data_augmentations(X_train, X_val, y_train, y_val)"
   ]
  },
  {
   "cell_type": "code",
   "execution_count": 12,
   "id": "009ffe3b-bf7a-40eb-b561-dd3f77fa187b",
   "metadata": {},
   "outputs": [
    {
     "name": "stdout",
     "output_type": "stream",
     "text": [
      "Training images: 102\n",
      "Validation images: 21\n",
      "Test images: 7\n"
     ]
    }
   ],
   "source": [
    "print(f\"Training images: {X_train.shape[0]}\")\n",
    "print(f\"Validation images: {X_val.shape[0]}\")\n",
    "print(f\"Test images: {X_test.shape[0]}\")"
   ]
  },
  {
   "cell_type": "code",
   "execution_count": 13,
   "id": "95e484a3-fc0a-42ba-886a-8c70c7b47af4",
   "metadata": {},
   "outputs": [],
   "source": [
    "def plot_all_data(X, y):\n",
    "    assert X.shape[0] == y.shape[0]\n",
    "    print(X.shape[0])\n",
    "    for i in range(X.shape[0]):\n",
    "        fig, axes = plt.subplots(nrows=1, ncols=2, figsize=(10, 10))\n",
    "        ax = axes.flatten()\n",
    "        ax[0].imshow(X[i])\n",
    "        ax[0].axis(\"off\")\n",
    "        ax[0].title.set_text(f'{i%(X.shape[0]/3)}')\n",
    "\n",
    "        ax[1].imshow(y[i], cmap=\"gray\")\n",
    "        ax[1].axis(\"off\")\n",
    "        ax[1].title.set_text(f'{i%(X.shape[0]/3)}')\n",
    "        plt.tight_layout()\n",
    "        plt.show()"
   ]
  },
  {
   "cell_type": "code",
   "execution_count": 14,
   "id": "8d27e2c3-9dab-4807-8d72-3fb2babb9fd1",
   "metadata": {},
   "outputs": [],
   "source": [
    "# plot_all_data(X_val, y_val)"
   ]
  },
  {
   "cell_type": "markdown",
   "id": "535f9890-64ce-4ed2-aaa6-6774ad98c83c",
   "metadata": {},
   "source": [
    "## Evaluation metrics"
   ]
  },
  {
   "cell_type": "code",
   "execution_count": 15,
   "id": "f28ef278-0416-4674-86e5-215b8aaa83c1",
   "metadata": {},
   "outputs": [],
   "source": [
    "def dice(y_true, y_pred):\n",
    "    y_true = np.asarray(y_true).astype(bool)\n",
    "    y_pred = np.asarray(y_pred).astype(bool)\n",
    "    \n",
    "    im_sum = y_true.sum() + y_pred.sum()\n",
    "\n",
    "    # Compute Dice coefficient\n",
    "    intersection = np.logical_and(y_true, y_pred)\n",
    "\n",
    "    return 2. * intersection.sum() / im_sum\n",
    "\n",
    "def pixel_accuracy(y_true, y_pred):\n",
    "    y_true = np.asarray(y_true).astype(np.uint8).flatten()\n",
    "    y_pred = np.asarray(y_pred).astype(np.uint8).flatten()\n",
    "    return accuracy_score(y_true, y_pred)\n",
    "\n",
    "\n",
    "def iou(y_true, y_pred):\n",
    "    y_true = np.asarray(y_true).astype(bool)\n",
    "    y_pred = np.asarray(y_pred).astype(bool)\n",
    "    intersection = np.logical_and(y_true, y_pred)\n",
    "    union = np.logical_or(y_true, y_pred)\n",
    "    iou_score = np.sum(intersection) / np.sum(union)\n",
    "    return iou_score"
   ]
  },
  {
   "cell_type": "code",
   "execution_count": 16,
   "id": "c24a47ba-ecda-4e1d-93e4-6736d258a7c5",
   "metadata": {},
   "outputs": [],
   "source": [
    "def conv_block(input, num_filters):\n",
    "    x = Conv2D(num_filters, 3, padding=\"same\")(input)\n",
    "    x = BatchNormalization()(x)\n",
    "    x = Activation(\"relu\")(x)\n",
    "\n",
    "    x = Conv2D(num_filters, 3, padding=\"same\")(x)\n",
    "    x = BatchNormalization()(x)\n",
    "    x = Activation(\"relu\")(x)\n",
    "\n",
    "    return x"
   ]
  },
  {
   "cell_type": "code",
   "execution_count": 17,
   "id": "0b152526-9a38-4bfc-a2ae-f5e429204ec3",
   "metadata": {},
   "outputs": [],
   "source": [
    "def decoder_block(input, skip_features, num_filters):\n",
    "    x = Conv2DTranspose(num_filters, (2, 2), strides=2, padding=\"same\")(input)\n",
    "    x = Concatenate()([x, skip_features])\n",
    "    x = conv_block(x, num_filters)\n",
    "    return x"
   ]
  },
  {
   "cell_type": "code",
   "execution_count": 18,
   "id": "86252143-e3be-45fe-b7bd-f16f398ab37c",
   "metadata": {},
   "outputs": [],
   "source": [
    "def build_vgg16_unet(input_shape):\n",
    "    \"\"\" Input \"\"\"\n",
    "    inputs = Input(input_shape)\n",
    "\n",
    "    \"\"\" Pre-trained VGG16 Model \"\"\"\n",
    "    vgg16 = VGG16(include_top=False, weights=\"imagenet\", input_tensor=inputs)\n",
    "\n",
    "    \"\"\" Encoder \"\"\"\n",
    "    s1 = vgg16.get_layer(\"block1_conv2\").output         ## (512 x 512)\n",
    "    s2 = vgg16.get_layer(\"block2_conv2\").output         ## (256 x 256)\n",
    "    s3 = vgg16.get_layer(\"block3_conv3\").output         ## (128 x 128)\n",
    "    s4 = vgg16.get_layer(\"block4_conv3\").output         ## (64 x 64)\n",
    "\n",
    "    \"\"\" Bridge \"\"\"\n",
    "    b1 = vgg16.get_layer(\"block5_conv3\").output         ## (32 x 32)\n",
    "\n",
    "    \"\"\" Decoder \"\"\"\n",
    "    d1 = decoder_block(b1, s4, 512)                     ## (64 x 64)\n",
    "    d2 = decoder_block(d1, s3, 256)                     ## (128 x 128)\n",
    "    d3 = decoder_block(d2, s2, 128)                     ## (256 x 256)\n",
    "    d4 = decoder_block(d3, s1, 64)                      ## (512 x 512)\n",
    "\n",
    "    \"\"\" Output \"\"\"\n",
    "    outputs = Conv2D(1, 1, padding=\"same\", activation=\"sigmoid\")(d4)\n",
    "\n",
    "    model = Model(inputs, outputs, name=\"VGG16_U-Net\")\n",
    "    return model\n"
   ]
  },
  {
   "cell_type": "code",
   "execution_count": 19,
   "id": "0ab97ba5-40dc-4992-b3d3-499da65c9ec8",
   "metadata": {},
   "outputs": [],
   "source": [
    "input_shape = X_train[0].shape\n",
    "model = build_vgg16_unet(input_shape)"
   ]
  },
  {
   "cell_type": "code",
   "execution_count": 20,
   "id": "66591411-aa21-4542-b078-38095cdeaed7",
   "metadata": {},
   "outputs": [],
   "source": [
    "# model.compile(optimizer=Adam(learning_rate=1e-3), loss='binary_crossentropy', metrics=['accuracy', tf.keras.metrics.MeanIoU(num_classes=2)])\n",
    "model.compile(optimizer=Adam(learning_rate=1e-3), loss='binary_crossentropy', metrics=['accuracy'])"
   ]
  },
  {
   "cell_type": "code",
   "execution_count": 21,
   "id": "50af487f-1d4e-4862-9969-1e07879e57f0",
   "metadata": {},
   "outputs": [],
   "source": [
    "y_train = np.squeeze(y_train)\n",
    "y_test = np.squeeze(y_test)"
   ]
  },
  {
   "cell_type": "code",
   "execution_count": 22,
   "id": "8a9882b8-6114-47e2-8a34-e71b32993f9f",
   "metadata": {},
   "outputs": [
    {
     "name": "stdout",
     "output_type": "stream",
     "text": [
      "Epoch 1/100\n",
      "13/13 [==============================] - 10s 388ms/step - loss: 0.2049 - accuracy: 0.9304 - val_loss: 10.9740 - val_accuracy: 0.2553\n",
      "Epoch 2/100\n",
      "13/13 [==============================] - 2s 125ms/step - loss: 0.0812 - accuracy: 0.9768 - val_loss: 0.5220 - val_accuracy: 0.7861\n",
      "Epoch 3/100\n",
      "13/13 [==============================] - 2s 125ms/step - loss: 0.0550 - accuracy: 0.9844 - val_loss: 2.0245 - val_accuracy: 0.2766\n",
      "Epoch 4/100\n",
      "13/13 [==============================] - 2s 125ms/step - loss: 0.0383 - accuracy: 0.9888 - val_loss: 1.3591 - val_accuracy: 0.3084\n",
      "Epoch 5/100\n",
      "13/13 [==============================] - 2s 125ms/step - loss: 0.0301 - accuracy: 0.9905 - val_loss: 5.4234 - val_accuracy: 0.2939\n",
      "Epoch 6/100\n",
      "13/13 [==============================] - 2s 125ms/step - loss: 0.0305 - accuracy: 0.9893 - val_loss: 5.6538 - val_accuracy: 0.3583\n",
      "Epoch 7/100\n",
      "13/13 [==============================] - 2s 125ms/step - loss: 0.0259 - accuracy: 0.9906 - val_loss: 1.8454 - val_accuracy: 0.3040\n",
      "Epoch 8/100\n",
      "13/13 [==============================] - 2s 125ms/step - loss: 0.0233 - accuracy: 0.9911 - val_loss: 1.1525 - val_accuracy: 0.3481\n",
      "Epoch 9/100\n",
      "13/13 [==============================] - 2s 125ms/step - loss: 0.0213 - accuracy: 0.9915 - val_loss: 0.7528 - val_accuracy: 0.7469\n",
      "Epoch 10/100\n",
      "13/13 [==============================] - 2s 125ms/step - loss: 0.0185 - accuracy: 0.9922 - val_loss: 0.1628 - val_accuracy: 0.9448\n",
      "Epoch 11/100\n",
      "13/13 [==============================] - 2s 125ms/step - loss: 0.0183 - accuracy: 0.9920 - val_loss: 9.5828 - val_accuracy: 0.2800\n",
      "Epoch 12/100\n",
      "13/13 [==============================] - 2s 125ms/step - loss: 0.0160 - accuracy: 0.9929 - val_loss: 3.1933 - val_accuracy: 0.5224\n",
      "Epoch 13/100\n",
      "13/13 [==============================] - 2s 125ms/step - loss: 0.0147 - accuracy: 0.9931 - val_loss: 0.6210 - val_accuracy: 0.8279\n",
      "Epoch 14/100\n",
      "13/13 [==============================] - 2s 125ms/step - loss: 0.0136 - accuracy: 0.9934 - val_loss: 1.6860 - val_accuracy: 0.5986\n",
      "Epoch 15/100\n",
      "13/13 [==============================] - 2s 125ms/step - loss: 0.0125 - accuracy: 0.9936 - val_loss: 1.5263 - val_accuracy: 0.5865\n",
      "Epoch 16/100\n",
      "13/13 [==============================] - 2s 125ms/step - loss: 0.0116 - accuracy: 0.9939 - val_loss: 0.9760 - val_accuracy: 0.6895\n",
      "Epoch 17/100\n",
      "13/13 [==============================] - 2s 125ms/step - loss: 0.0109 - accuracy: 0.9941 - val_loss: 0.6567 - val_accuracy: 0.7928\n",
      "Epoch 18/100\n",
      "13/13 [==============================] - 2s 125ms/step - loss: 0.0104 - accuracy: 0.9941 - val_loss: 0.1683 - val_accuracy: 0.9346\n",
      "Epoch 19/100\n",
      "13/13 [==============================] - 2s 125ms/step - loss: 0.0100 - accuracy: 0.9942 - val_loss: 0.1127 - val_accuracy: 0.9565\n",
      "Epoch 20/100\n",
      "13/13 [==============================] - 2s 125ms/step - loss: 0.0097 - accuracy: 0.9943 - val_loss: 0.0274 - val_accuracy: 0.9884\n",
      "Epoch 21/100\n",
      "13/13 [==============================] - 2s 125ms/step - loss: 0.0097 - accuracy: 0.9942 - val_loss: 0.0237 - val_accuracy: 0.9893\n",
      "Epoch 22/100\n",
      "13/13 [==============================] - 2s 125ms/step - loss: 0.0095 - accuracy: 0.9942 - val_loss: 0.0315 - val_accuracy: 0.9868\n",
      "Epoch 23/100\n",
      "13/13 [==============================] - 2s 125ms/step - loss: 0.0090 - accuracy: 0.9944 - val_loss: 0.0118 - val_accuracy: 0.9938\n",
      "Epoch 24/100\n",
      "13/13 [==============================] - 2s 130ms/step - loss: 0.0088 - accuracy: 0.9944 - val_loss: 0.0178 - val_accuracy: 0.9915\n",
      "Epoch 25/100\n",
      "13/13 [==============================] - 2s 125ms/step - loss: 0.0087 - accuracy: 0.9945 - val_loss: 0.0103 - val_accuracy: 0.9944\n",
      "Epoch 26/100\n",
      "13/13 [==============================] - 2s 125ms/step - loss: 0.0086 - accuracy: 0.9945 - val_loss: 0.0121 - val_accuracy: 0.9936\n",
      "Epoch 27/100\n",
      "13/13 [==============================] - 2s 125ms/step - loss: 0.0085 - accuracy: 0.9945 - val_loss: 0.0114 - val_accuracy: 0.9938\n",
      "Epoch 28/100\n",
      "13/13 [==============================] - 2s 125ms/step - loss: 0.0083 - accuracy: 0.9945 - val_loss: 0.0150 - val_accuracy: 0.9921\n",
      "Epoch 29/100\n",
      "13/13 [==============================] - 2s 125ms/step - loss: 0.0081 - accuracy: 0.9946 - val_loss: 0.0133 - val_accuracy: 0.9930\n",
      "Epoch 30/100\n",
      "13/13 [==============================] - 2s 125ms/step - loss: 0.0080 - accuracy: 0.9946 - val_loss: 0.0092 - val_accuracy: 0.9946\n",
      "Epoch 31/100\n",
      "13/13 [==============================] - 2s 125ms/step - loss: 0.0081 - accuracy: 0.9945 - val_loss: 0.0111 - val_accuracy: 0.9938\n",
      "Epoch 32/100\n",
      "13/13 [==============================] - 2s 125ms/step - loss: 0.0079 - accuracy: 0.9946 - val_loss: 0.0138 - val_accuracy: 0.9928\n",
      "Epoch 33/100\n",
      "13/13 [==============================] - 2s 126ms/step - loss: 0.0079 - accuracy: 0.9946 - val_loss: 0.0109 - val_accuracy: 0.9941\n",
      "Epoch 34/100\n",
      "13/13 [==============================] - 2s 125ms/step - loss: 0.0077 - accuracy: 0.9946 - val_loss: 0.0145 - val_accuracy: 0.9924\n",
      "Epoch 35/100\n",
      "13/13 [==============================] - 2s 125ms/step - loss: 0.0077 - accuracy: 0.9946 - val_loss: 0.0125 - val_accuracy: 0.9933\n",
      "Epoch 36/100\n",
      "13/13 [==============================] - 2s 125ms/step - loss: 0.0082 - accuracy: 0.9944 - val_loss: 0.0117 - val_accuracy: 0.9939\n",
      "Epoch 37/100\n",
      "13/13 [==============================] - 2s 125ms/step - loss: 0.0084 - accuracy: 0.9944 - val_loss: 0.0673 - val_accuracy: 0.9687\n",
      "Epoch 38/100\n",
      "13/13 [==============================] - 2s 126ms/step - loss: 0.0086 - accuracy: 0.9943 - val_loss: 0.0237 - val_accuracy: 0.9888\n",
      "Epoch 39/100\n",
      "13/13 [==============================] - 2s 125ms/step - loss: 0.0084 - accuracy: 0.9943 - val_loss: 0.0152 - val_accuracy: 0.9926\n",
      "Epoch 40/100\n",
      "13/13 [==============================] - 2s 125ms/step - loss: 0.0085 - accuracy: 0.9943 - val_loss: 0.9683 - val_accuracy: 0.8026\n",
      "Epoch 41/100\n",
      "13/13 [==============================] - 2s 125ms/step - loss: 0.0078 - accuracy: 0.9945 - val_loss: 0.7941 - val_accuracy: 0.7935\n",
      "Epoch 42/100\n",
      "13/13 [==============================] - 2s 125ms/step - loss: 0.0073 - accuracy: 0.9947 - val_loss: 0.1234 - val_accuracy: 0.9587\n",
      "Epoch 43/100\n",
      "13/13 [==============================] - 2s 125ms/step - loss: 0.0070 - accuracy: 0.9948 - val_loss: 0.0143 - val_accuracy: 0.9927\n",
      "Epoch 44/100\n",
      "13/13 [==============================] - 2s 125ms/step - loss: 0.0072 - accuracy: 0.9947 - val_loss: 0.0101 - val_accuracy: 0.9942\n",
      "Epoch 45/100\n",
      "13/13 [==============================] - 2s 126ms/step - loss: 0.0070 - accuracy: 0.9948 - val_loss: 0.0133 - val_accuracy: 0.9929\n",
      "Epoch 46/100\n",
      "13/13 [==============================] - 2s 125ms/step - loss: 0.0070 - accuracy: 0.9948 - val_loss: 0.0105 - val_accuracy: 0.9939\n",
      "Epoch 47/100\n",
      "13/13 [==============================] - 2s 125ms/step - loss: 0.0075 - accuracy: 0.9946 - val_loss: 0.0114 - val_accuracy: 0.9936\n",
      "Epoch 48/100\n",
      "13/13 [==============================] - 2s 125ms/step - loss: 0.0077 - accuracy: 0.9945 - val_loss: 0.0288 - val_accuracy: 0.9859\n",
      "Epoch 49/100\n",
      "13/13 [==============================] - 2s 125ms/step - loss: 0.0074 - accuracy: 0.9946 - val_loss: 0.0156 - val_accuracy: 0.9923\n",
      "Epoch 50/100\n",
      "13/13 [==============================] - 2s 125ms/step - loss: 0.0075 - accuracy: 0.9946 - val_loss: 0.0129 - val_accuracy: 0.9932\n",
      "Epoch 51/100\n",
      "13/13 [==============================] - 2s 125ms/step - loss: 0.0072 - accuracy: 0.9947 - val_loss: 0.0119 - val_accuracy: 0.9937\n",
      "Epoch 52/100\n",
      "13/13 [==============================] - 2s 125ms/step - loss: 0.0069 - accuracy: 0.9948 - val_loss: 0.0116 - val_accuracy: 0.9935\n",
      "Epoch 53/100\n",
      "13/13 [==============================] - 2s 125ms/step - loss: 0.0067 - accuracy: 0.9949 - val_loss: 0.0102 - val_accuracy: 0.9941\n",
      "Epoch 54/100\n",
      "13/13 [==============================] - 2s 126ms/step - loss: 0.0067 - accuracy: 0.9949 - val_loss: 0.0093 - val_accuracy: 0.9943\n",
      "Epoch 55/100\n",
      "13/13 [==============================] - 2s 125ms/step - loss: 0.0066 - accuracy: 0.9949 - val_loss: 0.0086 - val_accuracy: 0.9944\n",
      "Epoch 56/100\n",
      "13/13 [==============================] - 2s 125ms/step - loss: 0.0064 - accuracy: 0.9949 - val_loss: 0.0130 - val_accuracy: 0.9934\n",
      "Epoch 57/100\n",
      "13/13 [==============================] - 2s 125ms/step - loss: 0.0065 - accuracy: 0.9949 - val_loss: 0.0123 - val_accuracy: 0.9935\n",
      "Epoch 58/100\n",
      "13/13 [==============================] - 2s 125ms/step - loss: 0.0065 - accuracy: 0.9949 - val_loss: 0.0093 - val_accuracy: 0.9944\n",
      "Epoch 59/100\n",
      "13/13 [==============================] - 2s 126ms/step - loss: 0.0066 - accuracy: 0.9949 - val_loss: 0.0099 - val_accuracy: 0.9942\n",
      "Epoch 60/100\n",
      "13/13 [==============================] - 2s 125ms/step - loss: 0.0065 - accuracy: 0.9949 - val_loss: 0.0087 - val_accuracy: 0.9945\n",
      "Epoch 61/100\n",
      "13/13 [==============================] - 2s 125ms/step - loss: 0.0062 - accuracy: 0.9950 - val_loss: 0.0088 - val_accuracy: 0.9945\n",
      "Epoch 62/100\n",
      "13/13 [==============================] - 2s 126ms/step - loss: 0.0062 - accuracy: 0.9950 - val_loss: 0.0085 - val_accuracy: 0.9946\n",
      "Epoch 63/100\n",
      "13/13 [==============================] - 2s 126ms/step - loss: 0.0062 - accuracy: 0.9950 - val_loss: 0.0097 - val_accuracy: 0.9941\n",
      "Epoch 64/100\n",
      "13/13 [==============================] - 2s 125ms/step - loss: 0.0062 - accuracy: 0.9950 - val_loss: 0.0099 - val_accuracy: 0.9940\n",
      "Epoch 65/100\n",
      "13/13 [==============================] - 2s 125ms/step - loss: 0.0063 - accuracy: 0.9950 - val_loss: 0.0108 - val_accuracy: 0.9937\n",
      "Epoch 66/100\n",
      "13/13 [==============================] - 2s 125ms/step - loss: 0.0064 - accuracy: 0.9949 - val_loss: 0.0123 - val_accuracy: 0.9934\n",
      "Epoch 67/100\n",
      "13/13 [==============================] - 2s 125ms/step - loss: 0.0065 - accuracy: 0.9949 - val_loss: 0.0252 - val_accuracy: 0.9899\n",
      "Epoch 68/100\n",
      "13/13 [==============================] - 2s 127ms/step - loss: 0.0067 - accuracy: 0.9948 - val_loss: 0.0118 - val_accuracy: 0.9935\n",
      "Epoch 69/100\n",
      "13/13 [==============================] - 2s 128ms/step - loss: 0.0067 - accuracy: 0.9948 - val_loss: 0.0137 - val_accuracy: 0.9931\n",
      "Epoch 70/100\n",
      "13/13 [==============================] - 2s 130ms/step - loss: 0.0068 - accuracy: 0.9948 - val_loss: 0.0449 - val_accuracy: 0.9848\n",
      "Epoch 71/100\n",
      "13/13 [==============================] - 2s 125ms/step - loss: 0.0063 - accuracy: 0.9949 - val_loss: 0.0094 - val_accuracy: 0.9943\n",
      "Epoch 72/100\n",
      "13/13 [==============================] - 2s 125ms/step - loss: 0.0059 - accuracy: 0.9951 - val_loss: 0.0088 - val_accuracy: 0.9945\n",
      "Epoch 73/100\n",
      "13/13 [==============================] - 2s 126ms/step - loss: 0.0058 - accuracy: 0.9951 - val_loss: 0.0112 - val_accuracy: 0.9939\n",
      "Epoch 74/100\n",
      "13/13 [==============================] - 2s 125ms/step - loss: 0.0057 - accuracy: 0.9951 - val_loss: 0.0096 - val_accuracy: 0.9943\n",
      "Epoch 75/100\n",
      "13/13 [==============================] - 2s 127ms/step - loss: 0.0056 - accuracy: 0.9952 - val_loss: 0.0126 - val_accuracy: 0.9934\n",
      "Epoch 76/100\n",
      "13/13 [==============================] - 2s 129ms/step - loss: 0.0057 - accuracy: 0.9951 - val_loss: 0.0099 - val_accuracy: 0.9943\n",
      "Epoch 77/100\n",
      "13/13 [==============================] - 2s 125ms/step - loss: 0.0055 - accuracy: 0.9952 - val_loss: 0.0106 - val_accuracy: 0.9942\n",
      "Epoch 78/100\n",
      "13/13 [==============================] - 2s 125ms/step - loss: 0.0058 - accuracy: 0.9951 - val_loss: 0.0111 - val_accuracy: 0.9937\n",
      "Epoch 79/100\n",
      "13/13 [==============================] - 2s 127ms/step - loss: 0.0058 - accuracy: 0.9951 - val_loss: 0.0096 - val_accuracy: 0.9943\n",
      "Epoch 80/100\n",
      "13/13 [==============================] - 2s 125ms/step - loss: 0.0057 - accuracy: 0.9951 - val_loss: 0.0111 - val_accuracy: 0.9940\n",
      "Epoch 81/100\n",
      "13/13 [==============================] - 2s 125ms/step - loss: 0.0058 - accuracy: 0.9951 - val_loss: 0.0558 - val_accuracy: 0.9765\n",
      "Epoch 82/100\n",
      "13/13 [==============================] - 2s 125ms/step - loss: 0.0056 - accuracy: 0.9951 - val_loss: 0.0107 - val_accuracy: 0.9941\n",
      "Epoch 83/100\n",
      "13/13 [==============================] - 2s 125ms/step - loss: 0.0054 - accuracy: 0.9952 - val_loss: 0.0091 - val_accuracy: 0.9946\n",
      "Epoch 84/100\n",
      "13/13 [==============================] - 2s 125ms/step - loss: 0.0055 - accuracy: 0.9952 - val_loss: 0.0106 - val_accuracy: 0.9942\n",
      "Epoch 85/100\n",
      "13/13 [==============================] - 2s 125ms/step - loss: 0.0059 - accuracy: 0.9950 - val_loss: 0.0108 - val_accuracy: 0.9941\n",
      "Epoch 86/100\n",
      "13/13 [==============================] - 2s 125ms/step - loss: 0.0055 - accuracy: 0.9952 - val_loss: 0.0101 - val_accuracy: 0.9942\n",
      "Epoch 87/100\n",
      "13/13 [==============================] - 2s 125ms/step - loss: 0.0054 - accuracy: 0.9952 - val_loss: 0.0110 - val_accuracy: 0.9941\n",
      "Epoch 88/100\n",
      "13/13 [==============================] - 2s 125ms/step - loss: 0.0056 - accuracy: 0.9952 - val_loss: 0.0111 - val_accuracy: 0.9939\n",
      "Epoch 89/100\n",
      "13/13 [==============================] - 2s 125ms/step - loss: 0.0054 - accuracy: 0.9952 - val_loss: 0.0124 - val_accuracy: 0.9938\n",
      "Epoch 90/100\n",
      "13/13 [==============================] - 2s 125ms/step - loss: 0.0052 - accuracy: 0.9953 - val_loss: 0.0089 - val_accuracy: 0.9944\n",
      "Epoch 91/100\n",
      "13/13 [==============================] - 2s 125ms/step - loss: 0.0053 - accuracy: 0.9953 - val_loss: 0.0109 - val_accuracy: 0.9939\n",
      "Epoch 92/100\n",
      "13/13 [==============================] - 2s 125ms/step - loss: 0.0054 - accuracy: 0.9952 - val_loss: 0.0102 - val_accuracy: 0.9940\n",
      "Epoch 93/100\n",
      "13/13 [==============================] - 2s 125ms/step - loss: 0.0055 - accuracy: 0.9952 - val_loss: 0.0090 - val_accuracy: 0.9945\n",
      "Epoch 94/100\n",
      "13/13 [==============================] - 2s 125ms/step - loss: 0.0054 - accuracy: 0.9952 - val_loss: 0.0109 - val_accuracy: 0.9941\n",
      "Epoch 95/100\n",
      "13/13 [==============================] - 2s 126ms/step - loss: 0.0053 - accuracy: 0.9952 - val_loss: 0.0138 - val_accuracy: 0.9928\n",
      "Epoch 96/100\n",
      "13/13 [==============================] - 2s 125ms/step - loss: 0.0050 - accuracy: 0.9953 - val_loss: 0.0118 - val_accuracy: 0.9936\n",
      "Epoch 97/100\n",
      "13/13 [==============================] - 2s 125ms/step - loss: 0.0049 - accuracy: 0.9954 - val_loss: 0.0095 - val_accuracy: 0.9944\n",
      "Epoch 98/100\n",
      "13/13 [==============================] - 2s 125ms/step - loss: 0.0049 - accuracy: 0.9954 - val_loss: 0.0093 - val_accuracy: 0.9944\n",
      "Epoch 99/100\n",
      "13/13 [==============================] - 2s 125ms/step - loss: 0.0049 - accuracy: 0.9954 - val_loss: 0.0195 - val_accuracy: 0.9918\n",
      "Epoch 100/100\n",
      "13/13 [==============================] - 2s 125ms/step - loss: 0.0048 - accuracy: 0.9954 - val_loss: 0.0093 - val_accuracy: 0.9945\n"
     ]
    }
   ],
   "source": [
    "history = model.fit(X_train, y_train, \n",
    "                    batch_size=8, \n",
    "                    verbose=1, \n",
    "                    epochs=100, \n",
    "                    validation_data=(X_test, y_test), \n",
    "                    shuffle=False)"
   ]
  },
  {
   "cell_type": "code",
   "execution_count": 23,
   "id": "0c7f7a7e-ae7d-4061-89f2-f9d673422a38",
   "metadata": {},
   "outputs": [],
   "source": [
    "# from keras.models import load_model\n",
    "# model = load_model(\"test.hdf5\", compile=False)"
   ]
  },
  {
   "cell_type": "code",
   "execution_count": 30,
   "id": "e50cf01c-e84a-484a-9a5a-27ca5b2aa775",
   "metadata": {},
   "outputs": [],
   "source": [
    "def predict_batch(model, X):\n",
    "    y = model.predict(X)\n",
    "    y = (y[:,:,:,0] > 0.5).astype(np.uint8)\n",
    "    return y"
   ]
  },
  {
   "cell_type": "code",
   "execution_count": 25,
   "id": "2afa1e54-d86d-476a-88a2-2c957c3f9105",
   "metadata": {},
   "outputs": [],
   "source": [
    "y_test_pred = predict_batch(model, X_test)"
   ]
  },
  {
   "cell_type": "code",
   "execution_count": 26,
   "id": "cee06b0f-3e53-4161-aec5-b65a0bb2a19e",
   "metadata": {},
   "outputs": [],
   "source": [
    "def eval_model(model, X, y_true):\n",
    "    y_pred = predict_batch(model, X)\n",
    "    y_pred = np.squeeze(y_pred)\n",
    "    y_true = np.squeeze(y_true)\n",
    "    \n",
    "    print(f\"Accuracy: {pixel_accuracy(y_true, y_pred)}\")\n",
    "    print(f\"Dice: {dice(y_true, y_pred)}\")\n",
    "    print(f\"IoU: {iou(y_true, y_pred)}\")"
   ]
  },
  {
   "cell_type": "code",
   "execution_count": 27,
   "id": "e5c4abd0-93e8-48fc-9800-d784fd122bd2",
   "metadata": {},
   "outputs": [
    {
     "name": "stdout",
     "output_type": "stream",
     "text": [
      "Accuracy: 0.9965529668898809\n",
      "Dice: 0.9928722355261305\n",
      "IoU: 0.9858453619782925\n"
     ]
    }
   ],
   "source": [
    "eval_model(model, X_test, y_test)"
   ]
  },
  {
   "cell_type": "code",
   "execution_count": 28,
   "id": "4f76bb52-4af0-42d6-81d6-859948423f7a",
   "metadata": {},
   "outputs": [
    {
     "name": "stdout",
     "output_type": "stream",
     "text": [
      "Accuracy: 0.9973828683491626\n",
      "Dice: 0.9948776566904367\n",
      "IoU: 0.9898075227485303\n"
     ]
    }
   ],
   "source": [
    "eval_model(model, X_train, y_train)"
   ]
  },
  {
   "cell_type": "code",
   "execution_count": 29,
   "id": "6f42ce26-e8f2-45a2-8f2b-fa8794b4685e",
   "metadata": {},
   "outputs": [
    {
     "name": "stdout",
     "output_type": "stream",
     "text": [
      "Accuracy: 0.9961334712921627\n",
      "Dice: 0.9919408592377144\n",
      "IoU: 0.9840105794662178\n"
     ]
    }
   ],
   "source": [
    "eval_model(model, X_val, y_val)"
   ]
  },
  {
   "cell_type": "code",
   "execution_count": null,
   "id": "ee83b854-002a-4a86-b1f4-540ac162fdcc",
   "metadata": {},
   "outputs": [],
   "source": []
  }
 ],
 "metadata": {
  "kernelspec": {
   "display_name": "Python 3 (ipykernel)",
   "language": "python",
   "name": "python3"
  },
  "language_info": {
   "codemirror_mode": {
    "name": "ipython",
    "version": 3
   },
   "file_extension": ".py",
   "mimetype": "text/x-python",
   "name": "python",
   "nbconvert_exporter": "python",
   "pygments_lexer": "ipython3",
   "version": "3.8.0"
  }
 },
 "nbformat": 4,
 "nbformat_minor": 5
}
