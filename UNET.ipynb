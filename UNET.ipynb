{
 "cells": [
  {
   "cell_type": "code",
   "execution_count": 38,
   "id": "7f8816d7-1082-4f5a-8fc3-207e6120a046",
   "metadata": {},
   "outputs": [],
   "source": [
    "from natsort import natsorted\n",
    "import os\n",
    "import re\n",
    "from glob import glob\n",
    "import json\n",
    "import numpy as np\n",
    "import matplotlib.pyplot as plt\n",
    "import seaborn\n",
    "import networkx as nx\n",
    "\n",
    "import sklearn.neighbors\n",
    "\n",
    "import imageio\n",
    "import cv2\n",
    "import skimage\n",
    "from skimage import img_as_float32, img_as_ubyte, img_as_uint\n",
    "from skimage.feature import canny\n",
    "from skimage.color import rgb2gray, rgb2hsv, gray2rgb, rgba2rgb\n",
    "from sklearn.model_selection import train_test_split\n",
    "from functools import partial\n",
    "from tqdm import tqdm\n",
    "\n",
    "from tensorflow.keras.layers import Conv2D, BatchNormalization, Activation, MaxPool2D, Conv2DTranspose, Concatenate, Input\n",
    "from tensorflow.keras.models import Model\n",
    "from tensorflow.keras.optimizers import Adam\n",
    "from tensorflow.keras.applications import VGG16\n",
    "\n",
    "# caching with sane defaults\n",
    "from cachier import cachier"
   ]
  },
  {
   "cell_type": "code",
   "execution_count": 29,
   "id": "04735725-8c6e-4512-93b5-c5c3f27be91d",
   "metadata": {},
   "outputs": [],
   "source": [
    "\n",
    "tqdm = partial(tqdm, position=0, leave=True)\n",
    "\n",
    "\n",
    "cachier = partial(cachier, pickle_reload=False, cache_dir=\"data/cache\")"
   ]
  },
  {
   "cell_type": "markdown",
   "id": "6ea52e54-6e48-4514-b4a7-bd793c6ec655",
   "metadata": {},
   "source": [
    "### Read and Scale data"
   ]
  },
  {
   "cell_type": "code",
   "execution_count": 28,
   "id": "5ec4f778-b26a-4484-901b-f7cfcaa1c73c",
   "metadata": {},
   "outputs": [
    {
     "name": "stderr",
     "output_type": "stream",
     "text": [
      "Loading Images: 100%|██████████████████████████████████████████████████████████████████████████████████████████████████████████████████████████████████████████| 48/48 [00:01<00:00, 37.91it/s]\n",
      "Loading Masks: 100%|██████████████████████████████████████████████████████████████████████████████████████████████████████████████████████████████████████████| 48/48 [00:00<00:00, 347.19it/s]\n",
      "Resizing Images: 100%|███████████████████████████████████████████████████████████████████████████████████████████████████████████████████████████████████████| 48/48 [00:00<00:00, 2193.82it/s]\n",
      "Resizing Masks: 100%|████████████████████████████████████████████████████████████████████████████████████████████████████████████████████████████████████████| 48/48 [00:00<00:00, 7485.37it/s]\n"
     ]
    }
   ],
   "source": [
    "############################## Stuff for loading and rescaling the puzzle pieces nicely ################################\n",
    "SIZE = (768, 1024)\n",
    "\n",
    "DATA_PATH_PAIRS = list(\n",
    "    zip(\n",
    "        natsorted(\n",
    "            glob(\n",
    "                f\"puzzle_corners_{SIZE[1]}x{SIZE[0]}/images-{SIZE[1]}x{SIZE[0]}/*.png\"\n",
    "            )\n",
    "        ),\n",
    "        natsorted(\n",
    "            glob(\n",
    "                f\"puzzle_corners_{SIZE[1]}x{SIZE[0]}/masks-{SIZE[1]}x{SIZE[0]}/*.png\"\n",
    "            )\n",
    "        ),\n",
    "    )\n",
    ")\n",
    "DATA_IMGS = np.array(\n",
    "    [\n",
    "        img_as_float32(imageio.imread(img_path))\n",
    "        for img_path, _ in tqdm(DATA_PATH_PAIRS, \"Loading Images\")\n",
    "    ]\n",
    ")\n",
    "DATA_MSKS = np.array(\n",
    "    [\n",
    "        img_as_float32(imageio.imread(msk_path))\n",
    "        for _, msk_path in tqdm(DATA_PATH_PAIRS, \"Loading Masks\")\n",
    "    ]\n",
    ")\n",
    "\n",
    "SCALE = 0.25\n",
    "MATCH_IMGS = np.array([\n",
    "    cv2.resize(img, None, fx=SCALE, fy=SCALE)\n",
    "    for img in tqdm(DATA_IMGS, \"Resizing Images\")\n",
    "])\n",
    "MATCH_MSKS = np.array([\n",
    "    cv2.resize(img, None, fx=SCALE, fy=SCALE)\n",
    "    for img in tqdm(DATA_MSKS, \"Resizing Masks\")\n",
    "])"
   ]
  },
  {
   "cell_type": "code",
   "execution_count": 30,
   "id": "70d4a5cc-dc9a-4f16-a3f7-f087cb60bb9c",
   "metadata": {},
   "outputs": [
    {
     "data": {
      "text/plain": [
       "33.599999999999994"
      ]
     },
     "execution_count": 30,
     "metadata": {},
     "output_type": "execute_result"
    }
   ],
   "source": [
    "0.7*48"
   ]
  },
  {
   "cell_type": "code",
   "execution_count": 48,
   "id": "5be2e8cf-afcf-46cb-b13e-4b368ea354b3",
   "metadata": {},
   "outputs": [],
   "source": [
    "def train_val_test_split(X, y, train_count=34, val_count=7, test_count=7, random_state=42):\n",
    "    \"\"\" Split data into train, validation and test sets\"\"\"\n",
    "    # Obtain percentage split values\n",
    "    total_data_size = X.shape[0]\n",
    "    train_size = train_count / total_data_size\n",
    "    val_size = val_count / total_data_size\n",
    "    test_size = val_count / total_data_size\n",
    "   \n",
    "    X_train, X_rem, y_train, y_rem = train_test_split(X, y, train_size=train_size, random_state=random_state)\n",
    "    val_size = val_size/(val_size+test_size)\n",
    "    X_val, X_test, y_val, y_test = train_test_split(X_rem, y_rem, train_size=val_size, random_state=random_state)\n",
    "    \n",
    "    print(f\"Training images: {X_train.shape[0]}\")\n",
    "    print(f\"Validation images: {X_val.shape[0]}\")\n",
    "    print(f\"Test images: {X_test.shape[0]}\")\n",
    "    \n",
    "    return X_train, X_val, X_test, y_train, y_val, y_test"
   ]
  },
  {
   "cell_type": "code",
   "execution_count": 49,
   "id": "543b7b03-551e-459e-8f67-229595d25e56",
   "metadata": {},
   "outputs": [
    {
     "name": "stdout",
     "output_type": "stream",
     "text": [
      "Training images: 34\n",
      "Validation images: 7\n",
      "Test images: 7\n"
     ]
    }
   ],
   "source": [
    "X_train, X_val, X_test, y_train, y_val, y_test = train_val_test_split(MATCH_IMGS, MATCH_MSKS)"
   ]
  },
  {
   "cell_type": "code",
   "execution_count": 7,
   "id": "ee54b6e1-5835-4c1c-8ed6-1a316c30f35e",
   "metadata": {},
   "outputs": [],
   "source": []
  },
  {
   "cell_type": "code",
   "execution_count": 8,
   "id": "c24a47ba-ecda-4e1d-93e4-6736d258a7c5",
   "metadata": {},
   "outputs": [],
   "source": [
    "def conv_block(input, num_filters):\n",
    "    x = Conv2D(num_filters, 3, padding=\"same\")(input)\n",
    "    x = BatchNormalization()(x)\n",
    "    x = Activation(\"relu\")(x)\n",
    "\n",
    "    x = Conv2D(num_filters, 3, padding=\"same\")(x)\n",
    "    x = BatchNormalization()(x)\n",
    "    x = Activation(\"relu\")(x)\n",
    "\n",
    "    return x"
   ]
  },
  {
   "cell_type": "code",
   "execution_count": 9,
   "id": "0b152526-9a38-4bfc-a2ae-f5e429204ec3",
   "metadata": {},
   "outputs": [],
   "source": [
    "def decoder_block(input, skip_features, num_filters):\n",
    "    x = Conv2DTranspose(num_filters, (2, 2), strides=2, padding=\"same\")(input)\n",
    "    x = Concatenate()([x, skip_features])\n",
    "    x = conv_block(x, num_filters)\n",
    "    return x"
   ]
  },
  {
   "cell_type": "code",
   "execution_count": 10,
   "id": "86252143-e3be-45fe-b7bd-f16f398ab37c",
   "metadata": {},
   "outputs": [],
   "source": [
    "def build_vgg16_unet(input_shape):\n",
    "    \"\"\" Input \"\"\"\n",
    "    inputs = Input(input_shape)\n",
    "\n",
    "    \"\"\" Pre-trained VGG16 Model \"\"\"\n",
    "    vgg16 = VGG16(include_top=False, weights=\"imagenet\", input_tensor=inputs)\n",
    "\n",
    "    \"\"\" Encoder \"\"\"\n",
    "    s1 = vgg16.get_layer(\"block1_conv2\").output         ## (512 x 512)\n",
    "    s2 = vgg16.get_layer(\"block2_conv2\").output         ## (256 x 256)\n",
    "    s3 = vgg16.get_layer(\"block3_conv3\").output         ## (128 x 128)\n",
    "    s4 = vgg16.get_layer(\"block4_conv3\").output         ## (64 x 64)\n",
    "\n",
    "    \"\"\" Bridge \"\"\"\n",
    "    b1 = vgg16.get_layer(\"block5_conv3\").output         ## (32 x 32)\n",
    "\n",
    "    \"\"\" Decoder \"\"\"\n",
    "    d1 = decoder_block(b1, s4, 512)                     ## (64 x 64)\n",
    "    d2 = decoder_block(d1, s3, 256)                     ## (128 x 128)\n",
    "    d3 = decoder_block(d2, s2, 128)                     ## (256 x 256)\n",
    "    d4 = decoder_block(d3, s1, 64)                      ## (512 x 512)\n",
    "\n",
    "    \"\"\" Output \"\"\"\n",
    "    outputs = Conv2D(1, 1, padding=\"same\", activation=\"sigmoid\")(d4)\n",
    "\n",
    "    model = Model(inputs, outputs, name=\"VGG16_U-Net\")\n",
    "    return model\n"
   ]
  },
  {
   "cell_type": "code",
   "execution_count": 15,
   "id": "0198e633-025f-4cff-8ecf-d684afd8380d",
   "metadata": {},
   "outputs": [],
   "source": [
    "# Load the TensorBoard notebook extension\n",
    "%load_ext tensorboard"
   ]
  },
  {
   "cell_type": "code",
   "execution_count": 12,
   "id": "0ab97ba5-40dc-4992-b3d3-499da65c9ec8",
   "metadata": {},
   "outputs": [
    {
     "name": "stderr",
     "output_type": "stream",
     "text": [
      "2021-11-10 15:19:07.175314: I tensorflow/stream_executor/cuda/cuda_gpu_executor.cc:939] successful NUMA node read from SysFS had negative value (-1), but there must be at least one NUMA node, so returning NUMA node zero\n",
      "2021-11-10 15:19:07.180430: I tensorflow/stream_executor/cuda/cuda_gpu_executor.cc:939] successful NUMA node read from SysFS had negative value (-1), but there must be at least one NUMA node, so returning NUMA node zero\n",
      "2021-11-10 15:19:07.180746: I tensorflow/stream_executor/cuda/cuda_gpu_executor.cc:939] successful NUMA node read from SysFS had negative value (-1), but there must be at least one NUMA node, so returning NUMA node zero\n",
      "2021-11-10 15:19:07.181389: I tensorflow/core/platform/cpu_feature_guard.cc:151] This TensorFlow binary is optimized with oneAPI Deep Neural Network Library (oneDNN) to use the following CPU instructions in performance-critical operations:  AVX2 FMA\n",
      "To enable them in other operations, rebuild TensorFlow with the appropriate compiler flags.\n",
      "2021-11-10 15:19:07.181792: I tensorflow/stream_executor/cuda/cuda_gpu_executor.cc:939] successful NUMA node read from SysFS had negative value (-1), but there must be at least one NUMA node, so returning NUMA node zero\n",
      "2021-11-10 15:19:07.182078: I tensorflow/stream_executor/cuda/cuda_gpu_executor.cc:939] successful NUMA node read from SysFS had negative value (-1), but there must be at least one NUMA node, so returning NUMA node zero\n",
      "2021-11-10 15:19:07.182342: I tensorflow/stream_executor/cuda/cuda_gpu_executor.cc:939] successful NUMA node read from SysFS had negative value (-1), but there must be at least one NUMA node, so returning NUMA node zero\n",
      "2021-11-10 15:19:07.481151: I tensorflow/stream_executor/cuda/cuda_gpu_executor.cc:939] successful NUMA node read from SysFS had negative value (-1), but there must be at least one NUMA node, so returning NUMA node zero\n",
      "2021-11-10 15:19:07.481437: I tensorflow/stream_executor/cuda/cuda_gpu_executor.cc:939] successful NUMA node read from SysFS had negative value (-1), but there must be at least one NUMA node, so returning NUMA node zero\n",
      "2021-11-10 15:19:07.481677: I tensorflow/stream_executor/cuda/cuda_gpu_executor.cc:939] successful NUMA node read from SysFS had negative value (-1), but there must be at least one NUMA node, so returning NUMA node zero\n",
      "2021-11-10 15:19:07.481906: I tensorflow/core/common_runtime/gpu/gpu_device.cc:1525] Created device /job:localhost/replica:0/task:0/device:GPU:0 with 4498 MB memory:  -> device: 0, name: NVIDIA GeForce RTX 3070 Ti, pci bus id: 0000:08:00.0, compute capability: 8.6\n"
     ]
    },
    {
     "name": "stdout",
     "output_type": "stream",
     "text": [
      "Model: \"VGG16_U-Net\"\n",
      "__________________________________________________________________________________________________\n",
      " Layer (type)                   Output Shape         Param #     Connected to                     \n",
      "==================================================================================================\n",
      " input_1 (InputLayer)           [(None, 192, 256, 3  0           []                               \n",
      "                                )]                                                                \n",
      "                                                                                                  \n",
      " block1_conv1 (Conv2D)          (None, 192, 256, 64  1792        ['input_1[0][0]']                \n",
      "                                )                                                                 \n",
      "                                                                                                  \n",
      " block1_conv2 (Conv2D)          (None, 192, 256, 64  36928       ['block1_conv1[0][0]']           \n",
      "                                )                                                                 \n",
      "                                                                                                  \n",
      " block1_pool (MaxPooling2D)     (None, 96, 128, 64)  0           ['block1_conv2[0][0]']           \n",
      "                                                                                                  \n",
      " block2_conv1 (Conv2D)          (None, 96, 128, 128  73856       ['block1_pool[0][0]']            \n",
      "                                )                                                                 \n",
      "                                                                                                  \n",
      " block2_conv2 (Conv2D)          (None, 96, 128, 128  147584      ['block2_conv1[0][0]']           \n",
      "                                )                                                                 \n",
      "                                                                                                  \n",
      " block2_pool (MaxPooling2D)     (None, 48, 64, 128)  0           ['block2_conv2[0][0]']           \n",
      "                                                                                                  \n",
      " block3_conv1 (Conv2D)          (None, 48, 64, 256)  295168      ['block2_pool[0][0]']            \n",
      "                                                                                                  \n",
      " block3_conv2 (Conv2D)          (None, 48, 64, 256)  590080      ['block3_conv1[0][0]']           \n",
      "                                                                                                  \n",
      " block3_conv3 (Conv2D)          (None, 48, 64, 256)  590080      ['block3_conv2[0][0]']           \n",
      "                                                                                                  \n",
      " block3_pool (MaxPooling2D)     (None, 24, 32, 256)  0           ['block3_conv3[0][0]']           \n",
      "                                                                                                  \n",
      " block4_conv1 (Conv2D)          (None, 24, 32, 512)  1180160     ['block3_pool[0][0]']            \n",
      "                                                                                                  \n",
      " block4_conv2 (Conv2D)          (None, 24, 32, 512)  2359808     ['block4_conv1[0][0]']           \n",
      "                                                                                                  \n",
      " block4_conv3 (Conv2D)          (None, 24, 32, 512)  2359808     ['block4_conv2[0][0]']           \n",
      "                                                                                                  \n",
      " block4_pool (MaxPooling2D)     (None, 12, 16, 512)  0           ['block4_conv3[0][0]']           \n",
      "                                                                                                  \n",
      " block5_conv1 (Conv2D)          (None, 12, 16, 512)  2359808     ['block4_pool[0][0]']            \n",
      "                                                                                                  \n",
      " block5_conv2 (Conv2D)          (None, 12, 16, 512)  2359808     ['block5_conv1[0][0]']           \n",
      "                                                                                                  \n",
      " block5_conv3 (Conv2D)          (None, 12, 16, 512)  2359808     ['block5_conv2[0][0]']           \n",
      "                                                                                                  \n",
      " conv2d_transpose (Conv2DTransp  (None, 24, 32, 512)  1049088    ['block5_conv3[0][0]']           \n",
      " ose)                                                                                             \n",
      "                                                                                                  \n",
      " concatenate (Concatenate)      (None, 24, 32, 1024  0           ['conv2d_transpose[0][0]',       \n",
      "                                )                                 'block4_conv3[0][0]']           \n",
      "                                                                                                  \n",
      " conv2d (Conv2D)                (None, 24, 32, 512)  4719104     ['concatenate[0][0]']            \n",
      "                                                                                                  \n",
      " batch_normalization (BatchNorm  (None, 24, 32, 512)  2048       ['conv2d[0][0]']                 \n",
      " alization)                                                                                       \n",
      "                                                                                                  \n",
      " activation (Activation)        (None, 24, 32, 512)  0           ['batch_normalization[0][0]']    \n",
      "                                                                                                  \n",
      " conv2d_1 (Conv2D)              (None, 24, 32, 512)  2359808     ['activation[0][0]']             \n",
      "                                                                                                  \n",
      " batch_normalization_1 (BatchNo  (None, 24, 32, 512)  2048       ['conv2d_1[0][0]']               \n",
      " rmalization)                                                                                     \n",
      "                                                                                                  \n",
      " activation_1 (Activation)      (None, 24, 32, 512)  0           ['batch_normalization_1[0][0]']  \n",
      "                                                                                                  \n",
      " conv2d_transpose_1 (Conv2DTran  (None, 48, 64, 256)  524544     ['activation_1[0][0]']           \n",
      " spose)                                                                                           \n",
      "                                                                                                  \n",
      " concatenate_1 (Concatenate)    (None, 48, 64, 512)  0           ['conv2d_transpose_1[0][0]',     \n",
      "                                                                  'block3_conv3[0][0]']           \n",
      "                                                                                                  \n",
      " conv2d_2 (Conv2D)              (None, 48, 64, 256)  1179904     ['concatenate_1[0][0]']          \n",
      "                                                                                                  \n",
      " batch_normalization_2 (BatchNo  (None, 48, 64, 256)  1024       ['conv2d_2[0][0]']               \n",
      " rmalization)                                                                                     \n",
      "                                                                                                  \n",
      " activation_2 (Activation)      (None, 48, 64, 256)  0           ['batch_normalization_2[0][0]']  \n",
      "                                                                                                  \n",
      " conv2d_3 (Conv2D)              (None, 48, 64, 256)  590080      ['activation_2[0][0]']           \n",
      "                                                                                                  \n",
      " batch_normalization_3 (BatchNo  (None, 48, 64, 256)  1024       ['conv2d_3[0][0]']               \n",
      " rmalization)                                                                                     \n",
      "                                                                                                  \n",
      " activation_3 (Activation)      (None, 48, 64, 256)  0           ['batch_normalization_3[0][0]']  \n",
      "                                                                                                  \n",
      " conv2d_transpose_2 (Conv2DTran  (None, 96, 128, 128  131200     ['activation_3[0][0]']           \n",
      " spose)                         )                                                                 \n",
      "                                                                                                  \n",
      " concatenate_2 (Concatenate)    (None, 96, 128, 256  0           ['conv2d_transpose_2[0][0]',     \n",
      "                                )                                 'block2_conv2[0][0]']           \n",
      "                                                                                                  \n",
      " conv2d_4 (Conv2D)              (None, 96, 128, 128  295040      ['concatenate_2[0][0]']          \n",
      "                                )                                                                 \n",
      "                                                                                                  \n",
      " batch_normalization_4 (BatchNo  (None, 96, 128, 128  512        ['conv2d_4[0][0]']               \n",
      " rmalization)                   )                                                                 \n",
      "                                                                                                  \n",
      " activation_4 (Activation)      (None, 96, 128, 128  0           ['batch_normalization_4[0][0]']  \n",
      "                                )                                                                 \n",
      "                                                                                                  \n",
      " conv2d_5 (Conv2D)              (None, 96, 128, 128  147584      ['activation_4[0][0]']           \n",
      "                                )                                                                 \n",
      "                                                                                                  \n",
      " batch_normalization_5 (BatchNo  (None, 96, 128, 128  512        ['conv2d_5[0][0]']               \n",
      " rmalization)                   )                                                                 \n",
      "                                                                                                  \n",
      " activation_5 (Activation)      (None, 96, 128, 128  0           ['batch_normalization_5[0][0]']  \n",
      "                                )                                                                 \n",
      "                                                                                                  \n",
      " conv2d_transpose_3 (Conv2DTran  (None, 192, 256, 64  32832      ['activation_5[0][0]']           \n",
      " spose)                         )                                                                 \n",
      "                                                                                                  \n",
      " concatenate_3 (Concatenate)    (None, 192, 256, 12  0           ['conv2d_transpose_3[0][0]',     \n",
      "                                8)                                'block1_conv2[0][0]']           \n",
      "                                                                                                  \n",
      " conv2d_6 (Conv2D)              (None, 192, 256, 64  73792       ['concatenate_3[0][0]']          \n",
      "                                )                                                                 \n",
      "                                                                                                  \n",
      " batch_normalization_6 (BatchNo  (None, 192, 256, 64  256        ['conv2d_6[0][0]']               \n",
      " rmalization)                   )                                                                 \n",
      "                                                                                                  \n",
      " activation_6 (Activation)      (None, 192, 256, 64  0           ['batch_normalization_6[0][0]']  \n",
      "                                )                                                                 \n",
      "                                                                                                  \n",
      " conv2d_7 (Conv2D)              (None, 192, 256, 64  36928       ['activation_6[0][0]']           \n",
      "                                )                                                                 \n",
      "                                                                                                  \n",
      " batch_normalization_7 (BatchNo  (None, 192, 256, 64  256        ['conv2d_7[0][0]']               \n",
      " rmalization)                   )                                                                 \n",
      "                                                                                                  \n",
      " activation_7 (Activation)      (None, 192, 256, 64  0           ['batch_normalization_7[0][0]']  \n",
      "                                )                                                                 \n",
      "                                                                                                  \n",
      " conv2d_8 (Conv2D)              (None, 192, 256, 1)  65          ['activation_7[0][0]']           \n",
      "                                                                                                  \n",
      "==================================================================================================\n",
      "Total params: 25,862,337\n",
      "Trainable params: 25,858,497\n",
      "Non-trainable params: 3,840\n",
      "__________________________________________________________________________________________________\n"
     ]
    }
   ],
   "source": [
    "input_shape = X_train[0].shape\n",
    "model = build_vgg16_unet(input_shape)"
   ]
  },
  {
   "cell_type": "code",
   "execution_count": 17,
   "id": "66591411-aa21-4542-b078-38095cdeaed7",
   "metadata": {},
   "outputs": [],
   "source": [
    "model.compile(optimizer=Adam(learning_rate=1e-3), loss='binary_crossentropy', metrics=['accuracy'])"
   ]
  },
  {
   "cell_type": "code",
   "execution_count": 18,
   "id": "8a9882b8-6114-47e2-8a34-e71b32993f9f",
   "metadata": {},
   "outputs": [
    {
     "name": "stdout",
     "output_type": "stream",
     "text": [
      "Epoch 1/100\n",
      "19/19 [==============================] - 2s 52ms/step - loss: 0.0202 - accuracy: 0.9908 - val_loss: 10.0808 - val_accuracy: 0.2840\n",
      "Epoch 2/100\n",
      "19/19 [==============================] - 1s 45ms/step - loss: 0.0172 - accuracy: 0.9914 - val_loss: 4.8126 - val_accuracy: 0.3761\n",
      "Epoch 3/100\n",
      "19/19 [==============================] - 1s 43ms/step - loss: 0.0135 - accuracy: 0.9927 - val_loss: 0.8747 - val_accuracy: 0.7221\n",
      "Epoch 4/100\n",
      "19/19 [==============================] - 1s 43ms/step - loss: 0.0107 - accuracy: 0.9936 - val_loss: 0.1206 - val_accuracy: 0.9591\n",
      "Epoch 5/100\n",
      "19/19 [==============================] - 1s 43ms/step - loss: 0.0092 - accuracy: 0.9941 - val_loss: 0.0303 - val_accuracy: 0.9870\n",
      "Epoch 6/100\n",
      "19/19 [==============================] - 1s 45ms/step - loss: 0.0082 - accuracy: 0.9944 - val_loss: 0.0411 - val_accuracy: 0.9856\n",
      "Epoch 7/100\n",
      "19/19 [==============================] - 1s 44ms/step - loss: 0.0076 - accuracy: 0.9945 - val_loss: 0.0491 - val_accuracy: 0.9837\n",
      "Epoch 8/100\n",
      "19/19 [==============================] - 1s 45ms/step - loss: 0.0073 - accuracy: 0.9946 - val_loss: 0.0798 - val_accuracy: 0.9780\n",
      "Epoch 9/100\n",
      "19/19 [==============================] - 1s 44ms/step - loss: 0.0071 - accuracy: 0.9947 - val_loss: 0.0709 - val_accuracy: 0.9798\n",
      "Epoch 10/100\n",
      "19/19 [==============================] - 1s 44ms/step - loss: 0.0070 - accuracy: 0.9947 - val_loss: 0.0626 - val_accuracy: 0.9815\n",
      "Epoch 11/100\n",
      "19/19 [==============================] - 1s 43ms/step - loss: 0.0067 - accuracy: 0.9948 - val_loss: 0.0542 - val_accuracy: 0.9830\n",
      "Epoch 12/100\n",
      "19/19 [==============================] - 1s 43ms/step - loss: 0.0066 - accuracy: 0.9949 - val_loss: 0.0543 - val_accuracy: 0.9830\n",
      "Epoch 13/100\n",
      "19/19 [==============================] - 1s 44ms/step - loss: 0.0065 - accuracy: 0.9949 - val_loss: 0.0256 - val_accuracy: 0.9890\n",
      "Epoch 14/100\n",
      "19/19 [==============================] - 1s 43ms/step - loss: 0.0065 - accuracy: 0.9949 - val_loss: 0.0270 - val_accuracy: 0.9886\n",
      "Epoch 15/100\n",
      "19/19 [==============================] - 1s 44ms/step - loss: 0.0064 - accuracy: 0.9949 - val_loss: 0.0175 - val_accuracy: 0.9916\n",
      "Epoch 16/100\n",
      "19/19 [==============================] - 1s 44ms/step - loss: 0.0065 - accuracy: 0.9948 - val_loss: 0.0196 - val_accuracy: 0.9912\n",
      "Epoch 17/100\n",
      "19/19 [==============================] - 1s 44ms/step - loss: 0.0069 - accuracy: 0.9947 - val_loss: 0.0118 - val_accuracy: 0.9932\n",
      "Epoch 18/100\n",
      "19/19 [==============================] - 1s 43ms/step - loss: 0.0072 - accuracy: 0.9946 - val_loss: 0.0144 - val_accuracy: 0.9924\n",
      "Epoch 19/100\n",
      "19/19 [==============================] - 1s 44ms/step - loss: 0.0070 - accuracy: 0.9947 - val_loss: 0.0139 - val_accuracy: 0.9927\n",
      "Epoch 20/100\n",
      "19/19 [==============================] - 1s 43ms/step - loss: 0.0069 - accuracy: 0.9947 - val_loss: 0.0130 - val_accuracy: 0.9930\n",
      "Epoch 21/100\n",
      "19/19 [==============================] - 1s 43ms/step - loss: 0.0068 - accuracy: 0.9948 - val_loss: 0.0391 - val_accuracy: 0.9828\n",
      "Epoch 22/100\n",
      "19/19 [==============================] - 1s 43ms/step - loss: 0.0065 - accuracy: 0.9948 - val_loss: 0.0111 - val_accuracy: 0.9933\n",
      "Epoch 23/100\n",
      "19/19 [==============================] - 1s 44ms/step - loss: 0.0060 - accuracy: 0.9950 - val_loss: 0.0100 - val_accuracy: 0.9938\n",
      "Epoch 24/100\n",
      "19/19 [==============================] - 1s 43ms/step - loss: 0.0057 - accuracy: 0.9951 - val_loss: 0.0094 - val_accuracy: 0.9940\n",
      "Epoch 25/100\n",
      "19/19 [==============================] - 1s 44ms/step - loss: 0.0057 - accuracy: 0.9951 - val_loss: 0.0104 - val_accuracy: 0.9938\n",
      "Epoch 26/100\n",
      "19/19 [==============================] - 1s 43ms/step - loss: 0.0056 - accuracy: 0.9952 - val_loss: 0.0414 - val_accuracy: 0.9869\n",
      "Epoch 27/100\n",
      "19/19 [==============================] - 1s 44ms/step - loss: 0.0059 - accuracy: 0.9950 - val_loss: 0.0130 - val_accuracy: 0.9930\n",
      "Epoch 28/100\n",
      "19/19 [==============================] - 1s 43ms/step - loss: 0.0344 - accuracy: 0.9864 - val_loss: 10.7190 - val_accuracy: 0.2674\n",
      "Epoch 29/100\n",
      "19/19 [==============================] - 1s 44ms/step - loss: 0.0762 - accuracy: 0.9721 - val_loss: 9.5478 - val_accuracy: 0.3101\n",
      "Epoch 30/100\n",
      "19/19 [==============================] - 1s 44ms/step - loss: 0.0569 - accuracy: 0.9766 - val_loss: 6.8514 - val_accuracy: 0.3201\n",
      "Epoch 31/100\n",
      "19/19 [==============================] - 1s 43ms/step - loss: 0.0467 - accuracy: 0.9798 - val_loss: 10.7439 - val_accuracy: 0.2693\n",
      "Epoch 32/100\n",
      "19/19 [==============================] - 1s 44ms/step - loss: 0.0347 - accuracy: 0.9848 - val_loss: 9.9729 - val_accuracy: 0.2830\n",
      "Epoch 33/100\n",
      "19/19 [==============================] - 1s 43ms/step - loss: 0.0209 - accuracy: 0.9901 - val_loss: 4.9442 - val_accuracy: 0.3138\n",
      "Epoch 34/100\n",
      "19/19 [==============================] - 1s 44ms/step - loss: 0.0161 - accuracy: 0.9917 - val_loss: 0.5228 - val_accuracy: 0.7660\n",
      "Epoch 35/100\n",
      "19/19 [==============================] - 1s 43ms/step - loss: 0.0133 - accuracy: 0.9927 - val_loss: 0.0586 - val_accuracy: 0.9775\n",
      "Epoch 36/100\n",
      "19/19 [==============================] - 1s 43ms/step - loss: 0.0120 - accuracy: 0.9931 - val_loss: 0.0577 - val_accuracy: 0.9780\n",
      "Epoch 37/100\n",
      "19/19 [==============================] - 1s 43ms/step - loss: 0.0109 - accuracy: 0.9935 - val_loss: 0.0659 - val_accuracy: 0.9785\n",
      "Epoch 38/100\n",
      "19/19 [==============================] - 1s 44ms/step - loss: 0.0102 - accuracy: 0.9937 - val_loss: 0.0640 - val_accuracy: 0.9796\n",
      "Epoch 39/100\n",
      "19/19 [==============================] - 1s 44ms/step - loss: 0.0096 - accuracy: 0.9939 - val_loss: 0.0375 - val_accuracy: 0.9856\n",
      "Epoch 40/100\n",
      "19/19 [==============================] - 1s 44ms/step - loss: 0.0091 - accuracy: 0.9940 - val_loss: 0.0356 - val_accuracy: 0.9860\n",
      "Epoch 41/100\n",
      "19/19 [==============================] - 1s 44ms/step - loss: 0.0087 - accuracy: 0.9942 - val_loss: 0.0482 - val_accuracy: 0.9787\n",
      "Epoch 42/100\n",
      "19/19 [==============================] - 1s 44ms/step - loss: 0.0083 - accuracy: 0.9943 - val_loss: 0.0417 - val_accuracy: 0.9819\n",
      "Epoch 43/100\n",
      "19/19 [==============================] - 1s 43ms/step - loss: 0.0080 - accuracy: 0.9944 - val_loss: 0.0610 - val_accuracy: 0.9722\n",
      "Epoch 44/100\n",
      "19/19 [==============================] - 1s 43ms/step - loss: 0.0078 - accuracy: 0.9945 - val_loss: 0.0604 - val_accuracy: 0.9726\n",
      "Epoch 45/100\n",
      "19/19 [==============================] - 1s 44ms/step - loss: 0.0076 - accuracy: 0.9945 - val_loss: 0.0817 - val_accuracy: 0.9611\n",
      "Epoch 46/100\n",
      "19/19 [==============================] - 1s 43ms/step - loss: 0.0074 - accuracy: 0.9946 - val_loss: 0.0737 - val_accuracy: 0.9652\n",
      "Epoch 47/100\n",
      "19/19 [==============================] - 1s 44ms/step - loss: 0.0072 - accuracy: 0.9947 - val_loss: 0.0661 - val_accuracy: 0.9686\n",
      "Epoch 48/100\n",
      "19/19 [==============================] - 1s 44ms/step - loss: 0.0070 - accuracy: 0.9947 - val_loss: 0.0555 - val_accuracy: 0.9741\n",
      "Epoch 49/100\n",
      "19/19 [==============================] - 1s 44ms/step - loss: 0.0069 - accuracy: 0.9947 - val_loss: 0.0796 - val_accuracy: 0.9613\n",
      "Epoch 50/100\n",
      "19/19 [==============================] - 1s 43ms/step - loss: 0.0068 - accuracy: 0.9948 - val_loss: 0.0984 - val_accuracy: 0.9528\n",
      "Epoch 51/100\n",
      "19/19 [==============================] - 1s 43ms/step - loss: 0.0068 - accuracy: 0.9948 - val_loss: 0.0621 - val_accuracy: 0.9699\n",
      "Epoch 52/100\n",
      "19/19 [==============================] - 1s 44ms/step - loss: 0.0066 - accuracy: 0.9948 - val_loss: 0.0452 - val_accuracy: 0.9783\n",
      "Epoch 53/100\n",
      "19/19 [==============================] - 1s 43ms/step - loss: 0.0064 - accuracy: 0.9949 - val_loss: 0.0418 - val_accuracy: 0.9799\n",
      "Epoch 54/100\n",
      "19/19 [==============================] - 1s 44ms/step - loss: 0.0063 - accuracy: 0.9949 - val_loss: 0.0197 - val_accuracy: 0.9904\n",
      "Epoch 55/100\n",
      "19/19 [==============================] - 1s 43ms/step - loss: 0.0063 - accuracy: 0.9949 - val_loss: 0.0377 - val_accuracy: 0.9830\n",
      "Epoch 56/100\n",
      "19/19 [==============================] - 1s 44ms/step - loss: 0.0064 - accuracy: 0.9949 - val_loss: 0.4063 - val_accuracy: 0.8567\n",
      "Epoch 57/100\n",
      "19/19 [==============================] - 1s 44ms/step - loss: 0.0066 - accuracy: 0.9948 - val_loss: 0.0711 - val_accuracy: 0.9666\n",
      "Epoch 58/100\n",
      "19/19 [==============================] - 1s 43ms/step - loss: 0.0065 - accuracy: 0.9949 - val_loss: 0.0723 - val_accuracy: 0.9656\n",
      "Epoch 59/100\n",
      "19/19 [==============================] - 1s 44ms/step - loss: 0.0062 - accuracy: 0.9950 - val_loss: 0.0153 - val_accuracy: 0.9919\n",
      "Epoch 60/100\n",
      "19/19 [==============================] - 1s 43ms/step - loss: 0.0060 - accuracy: 0.9950 - val_loss: 0.0562 - val_accuracy: 0.9744\n",
      "Epoch 61/100\n",
      "19/19 [==============================] - 1s 44ms/step - loss: 0.0060 - accuracy: 0.9950 - val_loss: 0.0205 - val_accuracy: 0.9900\n",
      "Epoch 62/100\n",
      "19/19 [==============================] - 1s 43ms/step - loss: 0.0059 - accuracy: 0.9951 - val_loss: 0.0129 - val_accuracy: 0.9929\n",
      "Epoch 63/100\n",
      "19/19 [==============================] - 1s 43ms/step - loss: 0.0058 - accuracy: 0.9951 - val_loss: 0.0383 - val_accuracy: 0.9814\n",
      "Epoch 64/100\n",
      "19/19 [==============================] - 1s 43ms/step - loss: 0.0057 - accuracy: 0.9951 - val_loss: 0.0548 - val_accuracy: 0.9768\n",
      "Epoch 65/100\n",
      "19/19 [==============================] - 1s 44ms/step - loss: 0.0057 - accuracy: 0.9951 - val_loss: 0.0201 - val_accuracy: 0.9903\n",
      "Epoch 66/100\n",
      "19/19 [==============================] - 1s 44ms/step - loss: 0.0057 - accuracy: 0.9951 - val_loss: 0.0111 - val_accuracy: 0.9936\n",
      "Epoch 67/100\n",
      "19/19 [==============================] - 1s 44ms/step - loss: 0.0057 - accuracy: 0.9951 - val_loss: 0.0336 - val_accuracy: 0.9839\n",
      "Epoch 68/100\n",
      "19/19 [==============================] - 1s 44ms/step - loss: 0.0056 - accuracy: 0.9951 - val_loss: 0.0133 - val_accuracy: 0.9928\n",
      "Epoch 69/100\n",
      "19/19 [==============================] - 1s 43ms/step - loss: 0.0056 - accuracy: 0.9952 - val_loss: 0.0824 - val_accuracy: 0.9644\n",
      "Epoch 70/100\n",
      "19/19 [==============================] - 1s 44ms/step - loss: 0.0055 - accuracy: 0.9952 - val_loss: 0.0622 - val_accuracy: 0.9725\n",
      "Epoch 71/100\n",
      "19/19 [==============================] - 1s 44ms/step - loss: 0.0056 - accuracy: 0.9952 - val_loss: 0.7097 - val_accuracy: 0.8121\n",
      "Epoch 72/100\n",
      "19/19 [==============================] - 1s 44ms/step - loss: 0.0058 - accuracy: 0.9951 - val_loss: 0.0689 - val_accuracy: 0.9729\n",
      "Epoch 73/100\n",
      "19/19 [==============================] - 1s 44ms/step - loss: 0.0058 - accuracy: 0.9951 - val_loss: 0.2176 - val_accuracy: 0.9270\n",
      "Epoch 74/100\n",
      "19/19 [==============================] - 1s 43ms/step - loss: 0.0057 - accuracy: 0.9951 - val_loss: 0.1760 - val_accuracy: 0.9359\n",
      "Epoch 75/100\n",
      "19/19 [==============================] - 1s 44ms/step - loss: 0.0057 - accuracy: 0.9951 - val_loss: 0.0350 - val_accuracy: 0.9852\n",
      "Epoch 76/100\n",
      "19/19 [==============================] - 1s 43ms/step - loss: 0.0057 - accuracy: 0.9951 - val_loss: 0.0137 - val_accuracy: 0.9927\n",
      "Epoch 77/100\n",
      "19/19 [==============================] - 1s 44ms/step - loss: 0.0055 - accuracy: 0.9952 - val_loss: 0.0124 - val_accuracy: 0.9930\n",
      "Epoch 78/100\n",
      "19/19 [==============================] - 1s 44ms/step - loss: 0.0056 - accuracy: 0.9952 - val_loss: 0.4768 - val_accuracy: 0.8660\n",
      "Epoch 79/100\n",
      "19/19 [==============================] - 1s 44ms/step - loss: 0.0056 - accuracy: 0.9951 - val_loss: 0.0181 - val_accuracy: 0.9911\n",
      "Epoch 80/100\n",
      "19/19 [==============================] - 1s 44ms/step - loss: 0.0057 - accuracy: 0.9951 - val_loss: 0.0170 - val_accuracy: 0.9914\n",
      "Epoch 81/100\n",
      "19/19 [==============================] - 1s 43ms/step - loss: 0.0057 - accuracy: 0.9951 - val_loss: 0.0232 - val_accuracy: 0.9887\n",
      "Epoch 82/100\n",
      "19/19 [==============================] - 1s 43ms/step - loss: 0.0055 - accuracy: 0.9952 - val_loss: 0.0119 - val_accuracy: 0.9931\n",
      "Epoch 83/100\n",
      "19/19 [==============================] - 1s 44ms/step - loss: 0.0054 - accuracy: 0.9952 - val_loss: 0.0132 - val_accuracy: 0.9929\n",
      "Epoch 84/100\n",
      "19/19 [==============================] - 1s 43ms/step - loss: 0.0054 - accuracy: 0.9952 - val_loss: 0.0110 - val_accuracy: 0.9935\n",
      "Epoch 85/100\n",
      "19/19 [==============================] - 1s 44ms/step - loss: 0.0053 - accuracy: 0.9952 - val_loss: 0.0118 - val_accuracy: 0.9934\n",
      "Epoch 86/100\n",
      "19/19 [==============================] - 1s 43ms/step - loss: 0.0053 - accuracy: 0.9953 - val_loss: 0.0136 - val_accuracy: 0.9927\n",
      "Epoch 87/100\n",
      "19/19 [==============================] - 1s 43ms/step - loss: 0.0051 - accuracy: 0.9953 - val_loss: 0.0114 - val_accuracy: 0.9936\n",
      "Epoch 88/100\n",
      "19/19 [==============================] - 1s 44ms/step - loss: 0.0051 - accuracy: 0.9953 - val_loss: 0.0111 - val_accuracy: 0.9935\n",
      "Epoch 89/100\n",
      "19/19 [==============================] - 1s 43ms/step - loss: 0.0051 - accuracy: 0.9953 - val_loss: 0.0100 - val_accuracy: 0.9939\n",
      "Epoch 90/100\n",
      "19/19 [==============================] - 1s 44ms/step - loss: 0.0050 - accuracy: 0.9953 - val_loss: 0.0128 - val_accuracy: 0.9928\n",
      "Epoch 91/100\n",
      "19/19 [==============================] - 1s 43ms/step - loss: 0.0051 - accuracy: 0.9953 - val_loss: 0.0127 - val_accuracy: 0.9931\n",
      "Epoch 92/100\n",
      "19/19 [==============================] - 1s 44ms/step - loss: 0.0054 - accuracy: 0.9952 - val_loss: 0.0184 - val_accuracy: 0.9909\n",
      "Epoch 93/100\n",
      "19/19 [==============================] - 1s 44ms/step - loss: 0.0055 - accuracy: 0.9952 - val_loss: 0.0405 - val_accuracy: 0.9842\n",
      "Epoch 94/100\n",
      "19/19 [==============================] - 1s 43ms/step - loss: 0.0056 - accuracy: 0.9952 - val_loss: 0.0124 - val_accuracy: 0.9932\n",
      "Epoch 95/100\n",
      "19/19 [==============================] - 1s 43ms/step - loss: 0.0054 - accuracy: 0.9952 - val_loss: 0.0329 - val_accuracy: 0.9854\n",
      "Epoch 96/100\n",
      "19/19 [==============================] - 1s 43ms/step - loss: 0.0053 - accuracy: 0.9952 - val_loss: 0.0164 - val_accuracy: 0.9913\n",
      "Epoch 97/100\n",
      "19/19 [==============================] - 1s 44ms/step - loss: 0.0054 - accuracy: 0.9952 - val_loss: 0.0255 - val_accuracy: 0.9898\n",
      "Epoch 98/100\n",
      "19/19 [==============================] - 1s 44ms/step - loss: 0.0053 - accuracy: 0.9952 - val_loss: 0.0369 - val_accuracy: 0.9852\n",
      "Epoch 99/100\n",
      "19/19 [==============================] - 1s 44ms/step - loss: 0.0054 - accuracy: 0.9952 - val_loss: 0.1518 - val_accuracy: 0.9523\n",
      "Epoch 100/100\n",
      "19/19 [==============================] - 1s 43ms/step - loss: 0.0054 - accuracy: 0.9952 - val_loss: 0.0815 - val_accuracy: 0.9702\n"
     ]
    }
   ],
   "source": [
    "history = model.fit(X_train, y_train, \n",
    "                    batch_size=2, \n",
    "                    verbose=1, \n",
    "                    epochs=100, \n",
    "                    validation_data=(X_test, y_test), \n",
    "                    shuffle=False)"
   ]
  },
  {
   "cell_type": "code",
   "execution_count": null,
   "id": "a29e9813-4831-45f7-bf25-8abacda9ecab",
   "metadata": {},
   "outputs": [],
   "source": [
    "# model.save('test.hdf5')"
   ]
  },
  {
   "cell_type": "code",
   "execution_count": 20,
   "id": "dc145e5f-3b22-4903-b0b2-ce0c3ca12022",
   "metadata": {},
   "outputs": [
    {
     "data": {
      "text/plain": [
       "Reusing TensorBoard on port 6007 (pid 37273), started 0:02:59 ago. (Use '!kill 37273' to kill it.)"
      ]
     },
     "metadata": {},
     "output_type": "display_data"
    },
    {
     "data": {
      "text/html": [
       "\n",
       "      <iframe id=\"tensorboard-frame-817a8711773d3d94\" width=\"100%\" height=\"800\" frameborder=\"0\">\n",
       "      </iframe>\n",
       "      <script>\n",
       "        (function() {\n",
       "          const frame = document.getElementById(\"tensorboard-frame-817a8711773d3d94\");\n",
       "          const url = new URL(\"/\", window.location);\n",
       "          const port = 6007;\n",
       "          if (port) {\n",
       "            url.port = port;\n",
       "          }\n",
       "          frame.src = url;\n",
       "        })();\n",
       "      </script>\n",
       "    "
      ],
      "text/plain": [
       "<IPython.core.display.HTML object>"
      ]
     },
     "metadata": {},
     "output_type": "display_data"
    }
   ],
   "source": [
    "%tensorboard --logdir logs"
   ]
  },
  {
   "cell_type": "code",
   "execution_count": null,
   "id": "0c7f7a7e-ae7d-4061-89f2-f9d673422a38",
   "metadata": {},
   "outputs": [],
   "source": [
    "from keras.models import load_model\n",
    "model = load_model(\"test.hdf5\", compile=False)"
   ]
  },
  {
   "cell_type": "code",
   "execution_count": 21,
   "id": "639e6976-1c04-44d6-8b2c-ecbca330ef1f",
   "metadata": {},
   "outputs": [],
   "source": [
    "test_img_input=np.expand_dims(X_test[0], 0)"
   ]
  },
  {
   "cell_type": "code",
   "execution_count": 22,
   "id": "80461093-9ba0-4d5b-a0d7-c69569bd3299",
   "metadata": {},
   "outputs": [
    {
     "data": {
      "text/plain": [
       "(1, 192, 256, 3)"
      ]
     },
     "execution_count": 22,
     "metadata": {},
     "output_type": "execute_result"
    }
   ],
   "source": [
    "test_img_input.shape"
   ]
  },
  {
   "cell_type": "code",
   "execution_count": 23,
   "id": "e75d8840-bcc9-4ec8-b70d-5590e807050a",
   "metadata": {},
   "outputs": [],
   "source": [
    "ans = model.predict(test_img_input)"
   ]
  },
  {
   "cell_type": "code",
   "execution_count": 24,
   "id": "e06844a3-fd4b-4f9b-afe4-73a5aa89637e",
   "metadata": {},
   "outputs": [],
   "source": [
    "img = (ans[0,:,:,0] > 0.5).astype(np.uint8)"
   ]
  },
  {
   "cell_type": "code",
   "execution_count": 25,
   "id": "09aa891c-7200-4d42-ab65-6169f231028c",
   "metadata": {},
   "outputs": [
    {
     "data": {
      "image/png": "[encoded data removed]",
      "text/plain": [
       "<Figure size 432x288 with 1 Axes>"
      ]
     },
     "metadata": {
      "needs_background": "light"
     },
     "output_type": "display_data"
    }
   ],
   "source": [
    "plt.imshow(img, cmap='gray')\n",
    "plt.show()"
   ]
  },
  {
   "cell_type": "code",
   "execution_count": null,
   "id": "e50cf01c-e84a-484a-9a5a-27ca5b2aa775",
   "metadata": {},
   "outputs": [],
   "source": []
  }
 ],
 "metadata": {
  "kernelspec": {
   "display_name": "Python 3 (ipykernel)",
   "language": "python",
   "name": "python3"
  },
  "language_info": {
   "codemirror_mode": {
    "name": "ipython",
    "version": 3
   },
   "file_extension": ".py",
   "mimetype": "text/x-python",
   "name": "python",
   "nbconvert_exporter": "python",
   "pygments_lexer": "ipython3",
   "version": "3.8.0"
  }
 },
 "nbformat": 4,
 "nbformat_minor": 5
}
