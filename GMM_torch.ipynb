{
 "cells": [
  {
   "cell_type": "code",
   "execution_count": 1,
   "id": "e9925ca2",
   "metadata": {},
   "outputs": [],
   "source": [
    "import cv2\n",
    "import matplotlib.pyplot as plt\n",
    "from glob import glob\n",
    "import numpy as np\n",
    "import imageio\n",
    "from skimage import img_as_float32\n",
    "from natsort import natsorted\n",
    "import torch\n",
    "\n",
    "path_pairs = list(zip(\n",
    "    natsorted(glob('../puzzle_corners_1024x768/images-1024x768/*.png')),\n",
    "    natsorted(glob('../puzzle_corners_1024x768/masks-1024x768/*.png')),\n",
    "))\n",
    "\n",
    "imgs = np.array([img_as_float32(imageio.imread(ipath)) for ipath, _ in path_pairs])\n",
    "msks = np.array([img_as_float32(imageio.imread(mpath)) for _, mpath in path_pairs])\n",
    "\n",
    "# imgs_flat = imgs.reshape(-1,3) #might need to be 3 channels\n",
    "# msks_flat = msks.reshape(-1)\n"
   ]
  },
  {
   "cell_type": "code",
   "execution_count": 2,
   "id": "ad4ef2a4",
   "metadata": {},
   "outputs": [],
   "source": [
    "from sklearn.model_selection import train_test_split\n",
    "imgs_train, imgs_test, msks_train, msks_test = train_test_split(\n",
    "    imgs, msks, test_size=0.14, random_state=42)"
   ]
  },
  {
   "cell_type": "code",
   "execution_count": 3,
   "id": "24c823d2",
   "metadata": {},
   "outputs": [],
   "source": [
    "imgs_train_flat =  torch.from_numpy(imgs_train.reshape(-1,3))\n",
    "msks_train_flat =  torch.from_numpy(msks_train.reshape(-1))\n",
    "imgs_test_flat = torch.from_numpy(imgs_test.reshape(-1,3))\n",
    "msks_test_flat =  torch.from_numpy(msks_test.reshape(-1))"
   ]
  },
  {
   "cell_type": "code",
   "execution_count": 4,
   "id": "8a04be18",
   "metadata": {},
   "outputs": [],
   "source": [
    "# from sklearn.model_selection import KFold\n",
    "# kf = KFold(n_splits=6)\n",
    "# kf.get_n_splits(imgs_train)"
   ]
  },
  {
   "cell_type": "code",
   "execution_count": 5,
   "id": "bbe3f36f",
   "metadata": {},
   "outputs": [],
   "source": [
    "from scipy.stats import multivariate_normal"
   ]
  },
  {
   "cell_type": "code",
   "execution_count": 6,
   "id": "a49055df",
   "metadata": {
    "scrolled": true
   },
   "outputs": [
    {
     "data": {
      "image/png": "[encoded data removed]",
      "text/plain": [
       "<Figure size 432x288 with 1 Axes>"
      ]
     },
     "metadata": {
      "needs_background": "light"
     },
     "output_type": "display_data"
    }
   ],
   "source": [
    "histogram, bin_edges = np.histogram(imgs_train, bins=256, range=(0, 1))\n",
    "plt.figure()\n",
    "plt.title(\"Grayscale Histogram\")\n",
    "plt.xlabel(\"grayscale value\")\n",
    "plt.ylabel(\"pixels\")\n",
    "plt.xlim([0.0, 1.0])  # <- named arguments do not work here\n",
    "\n",
    "plt.plot(bin_edges[0:-1], histogram)  # <- or here\n",
    "plt.show()"
   ]
  },
  {
   "cell_type": "code",
   "execution_count": 9,
   "id": "a7c13bbc",
   "metadata": {},
   "outputs": [],
   "source": [
    "class GMM:\n",
    "    def __init__(self, K, num_features):\n",
    "        self.K = K\n",
    "        self.lambd = np.ones(K)/K\n",
    "        \n",
    "        self.num_features = num_features\n",
    "        self.mean = np.random.random((K, num_features))\n",
    "        \n",
    "        self.cov = np.random.random((K,num_features,num_features))\n",
    "\n",
    "        self.prevent_singular = np.zeros((K,num_features,num_features))\n",
    "        for k in range(K):\n",
    "            self.prevent_singular[k] = 1e-6*np.eye(num_features)\n",
    "            self.cov[k] *= self.cov[k].T\n",
    "            self.cov[k] += 1e+3*np.eye(num_features)\n",
    "            \n",
    "        self.lambd = torch.from_numpy(self.lambd)\n",
    "        self.mean = torch.from_numpy(self.mean)\n",
    "        self.cov = torch.from_numpy(self.cov)\n",
    "    \n",
    "    def expectation(self, X):\n",
    "        #make it self.R\n",
    "        R = torch.zeros(len(X), self.K)\n",
    "        for k in range(self.K):\n",
    "            R[:, k] =  torch.mul(self.lambd[k],torch.from_numpy(multivariate_normal(mean = self.mean[k], cov=self.cov[k]).pdf(X)))\n",
    "\n",
    "        log_likelihood =  torch.sum(torch.log(torch.sum(R, axis = 1)))\n",
    "\n",
    "        R = torch.div(R, torch.sum(R, dim=1).unsqueeze(-1))\n",
    "        \n",
    "        return R, log_likelihood\n",
    "    \n",
    "    \n",
    "    def maximisation(self, X, R):\n",
    "        \n",
    "        sum_r_ik = torch.sum(R, axis = 0)\n",
    "        self.lambd = sum_r_ik/torch.sum(R)\n",
    "        \n",
    "        self.mean = torch.div(torch.matmul(R.T , X), sum_r_ik.reshape(-1,1))#lp\n",
    "        \n",
    "        for k in range(self.K):\n",
    "            matmul = torch.matmul(torch.mul(R[:,k],(X - self.mean[k]).T), (X - self.mean[k]))\n",
    "            self.cov[k] = torch.div(matmul ,sum_r_ik[k])\n",
    "            \n",
    "            #########################################################\n",
    "            self.cov [torch.isnan(self.cov)] = 0\n",
    "            self.cov = self.cov + self.prevent_singular\n",
    "            ##--------------__#################-check\n",
    "    \n",
    "    def fit(self, X, max_iters, min_iters, converg_val):\n",
    "        \n",
    "        log_likelihood = 0 \n",
    "        for i in range(max_iters):\n",
    "            old_log_likelihood = log_likelihood\n",
    "            R , log_likelihood = self.expectation(X)\n",
    "            self.maximisation(X,R)\n",
    "            \n",
    "            change = np.abs(old_log_likelihood - log_likelihood)\n",
    "            print(change)\n",
    "            if change < converg_val and i > min_iters:\n",
    "                break\n",
    "                \n",
    "    \n",
    "    def predict(self, X):\n",
    "        summ=0 \n",
    "        for k in range(self.K):\n",
    "            summ += self.lambd[k]*multivariate_normal(mean = self.mean[k], cov=self.cov[k]).pdf(X)\n",
    "        return summ\n",
    "        "
   ]
  },
  {
   "cell_type": "code",
   "execution_count": 10,
   "id": "cfba1803",
   "metadata": {
    "scrolled": false
   },
   "outputs": [
    {
     "ename": "RuntimeError",
     "evalue": "[enforce fail at CPUAllocator.cpp:68] . DefaultCPUAllocator: can't allocate memory: you tried to allocate 9339428762118400 bytes. Error code 12 (Cannot allocate memory)",
     "output_type": "error",
     "traceback": [
      "\u001b[0;31m---------------------------------------------------------------------------\u001b[0m",
      "\u001b[0;31mRuntimeError\u001b[0m                              Traceback (most recent call last)",
      "\u001b[0;32m/tmp/ipykernel_15420/4027819806.py\u001b[0m in \u001b[0;36m<module>\u001b[0;34m\u001b[0m\n\u001b[1;32m      1\u001b[0m \u001b[0mgmm_back\u001b[0m \u001b[0;34m=\u001b[0m \u001b[0mGMM\u001b[0m\u001b[0;34m(\u001b[0m\u001b[0;36m4\u001b[0m\u001b[0;34m,\u001b[0m \u001b[0;36m3\u001b[0m\u001b[0;34m)\u001b[0m\u001b[0;34m\u001b[0m\u001b[0;34m\u001b[0m\u001b[0m\n\u001b[0;32m----> 2\u001b[0;31m \u001b[0mgmm_back\u001b[0m\u001b[0;34m.\u001b[0m\u001b[0mfit\u001b[0m\u001b[0;34m(\u001b[0m\u001b[0mimgs_train_flat\u001b[0m\u001b[0;34m[\u001b[0m\u001b[0mmsks_train_flat\u001b[0m\u001b[0;34m<\u001b[0m\u001b[0;36m0.5\u001b[0m\u001b[0;34m]\u001b[0m\u001b[0;34m,\u001b[0m \u001b[0;36m100\u001b[0m\u001b[0;34m,\u001b[0m\u001b[0;36m10\u001b[0m\u001b[0;34m,\u001b[0m \u001b[0;36m1e-7\u001b[0m\u001b[0;34m)\u001b[0m\u001b[0;34m\u001b[0m\u001b[0;34m\u001b[0m\u001b[0m\n\u001b[0m",
      "\u001b[0;32m/tmp/ipykernel_15420/3890648524.py\u001b[0m in \u001b[0;36mfit\u001b[0;34m(self, X, max_iters, min_iters, converg_val)\u001b[0m\n\u001b[1;32m     53\u001b[0m         \u001b[0;32mfor\u001b[0m \u001b[0mi\u001b[0m \u001b[0;32min\u001b[0m \u001b[0mrange\u001b[0m\u001b[0;34m(\u001b[0m\u001b[0mmax_iters\u001b[0m\u001b[0;34m)\u001b[0m\u001b[0;34m:\u001b[0m\u001b[0;34m\u001b[0m\u001b[0;34m\u001b[0m\u001b[0m\n\u001b[1;32m     54\u001b[0m             \u001b[0mold_log_likelihood\u001b[0m \u001b[0;34m=\u001b[0m \u001b[0mlog_likelihood\u001b[0m\u001b[0;34m\u001b[0m\u001b[0;34m\u001b[0m\u001b[0m\n\u001b[0;32m---> 55\u001b[0;31m             \u001b[0mR\u001b[0m \u001b[0;34m,\u001b[0m \u001b[0mlog_likelihood\u001b[0m \u001b[0;34m=\u001b[0m \u001b[0mself\u001b[0m\u001b[0;34m.\u001b[0m\u001b[0mexpectation\u001b[0m\u001b[0;34m(\u001b[0m\u001b[0mX\u001b[0m\u001b[0;34m)\u001b[0m\u001b[0;34m\u001b[0m\u001b[0;34m\u001b[0m\u001b[0m\n\u001b[0m\u001b[1;32m     56\u001b[0m             \u001b[0mself\u001b[0m\u001b[0;34m.\u001b[0m\u001b[0mmaximisation\u001b[0m\u001b[0;34m(\u001b[0m\u001b[0mX\u001b[0m\u001b[0;34m,\u001b[0m\u001b[0mR\u001b[0m\u001b[0;34m)\u001b[0m\u001b[0;34m\u001b[0m\u001b[0;34m\u001b[0m\u001b[0m\n\u001b[1;32m     57\u001b[0m \u001b[0;34m\u001b[0m\u001b[0m\n",
      "\u001b[0;32m/tmp/ipykernel_15420/3890648524.py\u001b[0m in \u001b[0;36mexpectation\u001b[0;34m(self, X)\u001b[0m\n\u001b[1;32m     27\u001b[0m         \u001b[0mlog_likelihood\u001b[0m \u001b[0;34m=\u001b[0m  \u001b[0mtorch\u001b[0m\u001b[0;34m.\u001b[0m\u001b[0msum\u001b[0m\u001b[0;34m(\u001b[0m\u001b[0mtorch\u001b[0m\u001b[0;34m.\u001b[0m\u001b[0mlog\u001b[0m\u001b[0;34m(\u001b[0m\u001b[0mtorch\u001b[0m\u001b[0;34m.\u001b[0m\u001b[0msum\u001b[0m\u001b[0;34m(\u001b[0m\u001b[0mR\u001b[0m\u001b[0;34m,\u001b[0m \u001b[0maxis\u001b[0m \u001b[0;34m=\u001b[0m \u001b[0;36m1\u001b[0m\u001b[0;34m)\u001b[0m\u001b[0;34m)\u001b[0m\u001b[0;34m)\u001b[0m\u001b[0;34m\u001b[0m\u001b[0;34m\u001b[0m\u001b[0m\n\u001b[1;32m     28\u001b[0m \u001b[0;34m\u001b[0m\u001b[0m\n\u001b[0;32m---> 29\u001b[0;31m         \u001b[0mR\u001b[0m \u001b[0;34m=\u001b[0m \u001b[0mtorch\u001b[0m\u001b[0;34m.\u001b[0m\u001b[0mdiv\u001b[0m\u001b[0;34m(\u001b[0m\u001b[0mR\u001b[0m\u001b[0;34m,\u001b[0m \u001b[0mtorch\u001b[0m\u001b[0;34m.\u001b[0m\u001b[0msum\u001b[0m\u001b[0;34m(\u001b[0m\u001b[0mR\u001b[0m\u001b[0;34m,\u001b[0m \u001b[0mdim\u001b[0m\u001b[0;34m=\u001b[0m\u001b[0;36m1\u001b[0m\u001b[0;34m,\u001b[0m \u001b[0mkeepdim\u001b[0m \u001b[0;34m=\u001b[0m\u001b[0;32mTrue\u001b[0m\u001b[0;34m)\u001b[0m\u001b[0;34m.\u001b[0m\u001b[0munsqueeze\u001b[0m\u001b[0;34m(\u001b[0m\u001b[0;34m-\u001b[0m\u001b[0;36m1\u001b[0m\u001b[0;34m)\u001b[0m\u001b[0;34m)\u001b[0m\u001b[0;34m\u001b[0m\u001b[0;34m\u001b[0m\u001b[0m\n\u001b[0m\u001b[1;32m     30\u001b[0m \u001b[0;34m\u001b[0m\u001b[0m\n\u001b[1;32m     31\u001b[0m         \u001b[0;32mreturn\u001b[0m \u001b[0mR\u001b[0m\u001b[0;34m,\u001b[0m \u001b[0mlog_likelihood\u001b[0m\u001b[0;34m\u001b[0m\u001b[0;34m\u001b[0m\u001b[0m\n",
      "\u001b[0;31mRuntimeError\u001b[0m: [enforce fail at CPUAllocator.cpp:68] . DefaultCPUAllocator: can't allocate memory: you tried to allocate 9339428762118400 bytes. Error code 12 (Cannot allocate memory)"
     ]
    }
   ],
   "source": [
    "gmm_back = GMM(4, 3)\n",
    "gmm_back.fit(imgs_train_flat[msks_train_flat<0.5], 100,10, 1e-7)"
   ]
  },
  {
   "cell_type": "code",
   "execution_count": null,
   "id": "b6b0c146",
   "metadata": {
    "scrolled": true
   },
   "outputs": [],
   "source": [
    "gmm_fore = GMM(4, 3)\n",
    "gmm_fore.fit(imgs_train_flat[msks_train_flat>0.5], 100,10, 1e-7)"
   ]
  },
  {
   "cell_type": "code",
   "execution_count": null,
   "id": "c6120263",
   "metadata": {},
   "outputs": [],
   "source": [
    "fore = gmm_fore.predict(imgs_test_flat)\n",
    "back = gmm_back.predict(imgs_test_flat)"
   ]
  },
  {
   "cell_type": "code",
   "execution_count": null,
   "id": "89299873",
   "metadata": {},
   "outputs": [],
   "source": [
    "y = (0.4 * fore) / ((0.4 * fore) + ((1 - 0.4) * back))"
   ]
  },
  {
   "cell_type": "code",
   "execution_count": null,
   "id": "514923d8",
   "metadata": {},
   "outputs": [],
   "source": [
    "preds = (y>0.5).astype(np.float32)"
   ]
  },
  {
   "cell_type": "code",
   "execution_count": null,
   "id": "e195a006",
   "metadata": {},
   "outputs": [],
   "source": [
    "msks_test_flat[msks_test_flat>0.5] = 1.\n",
    "msks_test_flat[msks_test_flat<0.5] = 0\n",
    "np.unique(msks_test_flat)"
   ]
  },
  {
   "cell_type": "code",
   "execution_count": null,
   "id": "808f9aec",
   "metadata": {},
   "outputs": [],
   "source": [
    "len(preds[preds == msks_test_flat])/len(preds)"
   ]
  },
  {
   "cell_type": "code",
   "execution_count": null,
   "id": "a6526982",
   "metadata": {},
   "outputs": [],
   "source": [
    "pred_ims = preds.reshape(msks_test.shape)"
   ]
  },
  {
   "cell_type": "code",
   "execution_count": null,
   "id": "1a00f1a8",
   "metadata": {},
   "outputs": [],
   "source": [
    "plt.imshow(pred_ims[3], cmap = 'gray')"
   ]
  },
  {
   "cell_type": "code",
   "execution_count": null,
   "id": "059c27a5",
   "metadata": {},
   "outputs": [],
   "source": [
    "plt.imshow(imgs_test[3])"
   ]
  },
  {
   "cell_type": "code",
   "execution_count": null,
   "id": "4d7264e6",
   "metadata": {},
   "outputs": [],
   "source": []
  }
 ],
 "metadata": {
  "kernelspec": {
   "display_name": "Python 3 (ipykernel)",
   "language": "python",
   "name": "python3"
  },
  "language_info": {
   "codemirror_mode": {
    "name": "ipython",
    "version": 3
   },
   "file_extension": ".py",
   "mimetype": "text/x-python",
   "name": "python",
   "nbconvert_exporter": "python",
   "pygments_lexer": "ipython3",
   "version": "3.8.10"
  }
 },
 "nbformat": 4,
 "nbformat_minor": 5
}
